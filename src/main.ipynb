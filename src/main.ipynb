{
 "cells": [
  {
   "cell_type": "markdown",
   "id": "e43eb26b",
   "metadata": {},
   "source": [
    "# IN3062 – Introduction to Artificial Intelligence\n",
    "\n",
    "## *Coursework Notebook*\n",
    "\n",
    "#### Sever Miranbeg, Akif Karakus, Moeen Younis"
   ]
  },
  {
   "cell_type": "markdown",
   "id": "62abba06",
   "metadata": {},
   "source": [
    "# Introduction\n",
    "\n",
    "This notebook documents analysis done on a [dataset](https://www.kaggle.com/mirichoi0218/insurance) collating records of anonymous individuals in the US on health insurance premiums in order to identify the most effective AI model for predicting the cost of a healthcare package for a single person based on several factors, some of which include their **age**, **gender** and [**BMI**](https://en.wikipedia.org/wiki/Body_mass_index) value.\n",
    "\n",
    "## Reading in the data\n",
    "\n",
    "Firstly, we import the required [`os`](https://docs.python.org/3.8/library/os.html) and [`pandas`](https://pandas.pydata.org/pandas-docs/version/1.3.3/reference/index.html) modules in order to load the CSV file (`healthcare.csv`) containing the our data and create a new [`DataFrame`](https://pandas.pydata.org/pandas-docs/version/1.3.3/reference/frame.html) object. The [`head`](https://pandas.pydata.org/pandas-docs/version/1.3.3/reference/api/pandas.DataFrame.head.html) function is then used to display the object's columns and first 5 rows."
   ]
  },
  {
   "cell_type": "code",
   "execution_count": 1,
   "id": "938ffd74",
   "metadata": {
    "scrolled": false
   },
   "outputs": [
    {
     "data": {
      "text/html": [
       "<div>\n",
       "<style scoped>\n",
       "    .dataframe tbody tr th:only-of-type {\n",
       "        vertical-align: middle;\n",
       "    }\n",
       "\n",
       "    .dataframe tbody tr th {\n",
       "        vertical-align: top;\n",
       "    }\n",
       "\n",
       "    .dataframe thead th {\n",
       "        text-align: right;\n",
       "    }\n",
       "</style>\n",
       "<table border=\"1\" class=\"dataframe\">\n",
       "  <thead>\n",
       "    <tr style=\"text-align: right;\">\n",
       "      <th></th>\n",
       "      <th>age</th>\n",
       "      <th>sex</th>\n",
       "      <th>bmi</th>\n",
       "      <th>children</th>\n",
       "      <th>smoker</th>\n",
       "      <th>region</th>\n",
       "      <th>charges</th>\n",
       "    </tr>\n",
       "  </thead>\n",
       "  <tbody>\n",
       "    <tr>\n",
       "      <th>0</th>\n",
       "      <td>19</td>\n",
       "      <td>female</td>\n",
       "      <td>27.900</td>\n",
       "      <td>0</td>\n",
       "      <td>yes</td>\n",
       "      <td>southwest</td>\n",
       "      <td>16884.92400</td>\n",
       "    </tr>\n",
       "    <tr>\n",
       "      <th>1</th>\n",
       "      <td>18</td>\n",
       "      <td>male</td>\n",
       "      <td>33.770</td>\n",
       "      <td>1</td>\n",
       "      <td>no</td>\n",
       "      <td>southeast</td>\n",
       "      <td>1725.55230</td>\n",
       "    </tr>\n",
       "    <tr>\n",
       "      <th>2</th>\n",
       "      <td>28</td>\n",
       "      <td>male</td>\n",
       "      <td>33.000</td>\n",
       "      <td>3</td>\n",
       "      <td>no</td>\n",
       "      <td>southeast</td>\n",
       "      <td>4449.46200</td>\n",
       "    </tr>\n",
       "    <tr>\n",
       "      <th>3</th>\n",
       "      <td>33</td>\n",
       "      <td>male</td>\n",
       "      <td>22.705</td>\n",
       "      <td>0</td>\n",
       "      <td>no</td>\n",
       "      <td>northwest</td>\n",
       "      <td>21984.47061</td>\n",
       "    </tr>\n",
       "    <tr>\n",
       "      <th>4</th>\n",
       "      <td>32</td>\n",
       "      <td>male</td>\n",
       "      <td>28.880</td>\n",
       "      <td>0</td>\n",
       "      <td>no</td>\n",
       "      <td>northwest</td>\n",
       "      <td>3866.85520</td>\n",
       "    </tr>\n",
       "  </tbody>\n",
       "</table>\n",
       "</div>"
      ],
      "text/plain": [
       "   age     sex     bmi  children smoker     region      charges\n",
       "0   19  female  27.900         0    yes  southwest  16884.92400\n",
       "1   18    male  33.770         1     no  southeast   1725.55230\n",
       "2   28    male  33.000         3     no  southeast   4449.46200\n",
       "3   33    male  22.705         0     no  northwest  21984.47061\n",
       "4   32    male  28.880         0     no  northwest   3866.85520"
      ]
     },
     "execution_count": 1,
     "metadata": {},
     "output_type": "execute_result"
    }
   ],
   "source": [
    "# Required classes/modules\n",
    "import os\n",
    "import pandas as pd\n",
    "\n",
    "# Reads in CSV to initialise a DataFrame with dataset, then outputs the first 5 rows\n",
    "path = \"../data/\"\n",
    "read = os.path.join(path, \"healthcare.csv\")\n",
    "df = pd.read_csv(read)\n",
    "df.head()"
   ]
  },
  {
   "cell_type": "markdown",
   "id": "2ac7c126",
   "metadata": {},
   "source": [
    "Referencing the [`shape`](https://pandas.pydata.org/pandas-docs/version/1.3.3/reference/api/pandas.DataFrame.shape.html) property of our `DataFrame` object returns a tuple representing its dimensions (number of rows by number of columns)."
   ]
  },
  {
   "cell_type": "code",
   "execution_count": 2,
   "id": "5b4c595c",
   "metadata": {},
   "outputs": [
    {
     "data": {
      "text/plain": [
       "(1338, 7)"
      ]
     },
     "execution_count": 2,
     "metadata": {},
     "output_type": "execute_result"
    }
   ],
   "source": [
    "df.shape    # Returns the dimensions (rows, cols)"
   ]
  },
  {
   "cell_type": "markdown",
   "id": "a198845c",
   "metadata": {},
   "source": [
    "As shown above, there are 1338 rows (observations) in addition to 7 columns (features) to work with, which is sufficient to build a reliable model. The following section covers the steps taken to prepare the data for training.\n",
    "\n",
    "## Analysing and visualising the data\n",
    "\n",
    "Before we begin building any models using [`sklearn`](https://scikit-learn.org/stable/modules/classes.html) and any other modules, it is important that we make sense of the data by visualising it. This gives us a clearer insight into the type of data we are working with, making any trends more apparent.\n",
    "\n",
    "To visualise certain features (as well as models and predictions later on) we'll be using a combination of the powerful data visualisation and graphical plotting modules [`seaborn`](https://seaborn.pydata.org/api.html) and [`matplotlib`](https://matplotlib.org/stable/api/).\n",
    "\n",
    "The [`savefig`](https://matplotlib.org/stable/api/_as_gen/matplotlib.pyplot.savefig.html) function provided by `matplotlib` will be reused to save each plot produced (in `.png` format) within `models/`, found in the project root."
   ]
  },
  {
   "cell_type": "code",
   "execution_count": 3,
   "id": "61faad43",
   "metadata": {},
   "outputs": [
    {
     "data": {
      "image/png": "[encoded data removed]",
      "text/plain": [
       "<Figure size 432x288 with 2 Axes>"
      ]
     },
     "metadata": {
      "needs_background": "light"
     },
     "output_type": "display_data"
    }
   ],
   "source": [
    "# Required classes/modules\n",
    "import seaborn as sns\n",
    "import matplotlib.pyplot as plt\n",
    "\n",
    "# Generates a heatmap of column correlation\n",
    "corr_feat_fig01 = sns.heatmap(df.corr(), cmap=\"plasma_r\", annot=True, fmt=\".3f\")\n",
    "corr_feat_fig01.set_title(\"Column correlation (age, bmi, children, charges)\", size=\"large\", style=\"italic\", weight=\"bold\")\n",
    "# corr_feat_fig01.get_figure().savefig(\"../models/corr_feat_fig01.png\", bbox_inches=\"tight\")\n",
    "plt.show()"
   ]
  },
  {
   "cell_type": "markdown",
   "id": "91aeda65",
   "metadata": {},
   "source": [
    "The figure shown above (produced by [`heatmap`](https://seaborn.pydata.org/generated/seaborn.heatmap.html) from `seaborn`) visually describes how closely correlated each of the numeric features in our dataset are to each other, on a scale of 0 (no correlation) to 1 (fully correlated). The [`corr`](https://pandas.pydata.org/pandas-docs/version/1.3.3/reference/api/pandas.DataFrame.corr.html) function produces the correlation matrix used in the call to `heatmap`."
   ]
  },
  {
   "cell_type": "code",
   "execution_count": 4,
   "id": "b8509ede",
   "metadata": {
    "scrolled": false
   },
   "outputs": [
    {
     "data": {
      "image/png": "[encoded data removed]",
      "text/plain": [
       "<Figure size 1080x360 with 3 Axes>"
      ]
     },
     "metadata": {},
     "output_type": "display_data"
    }
   ],
   "source": [
    "sns.set_theme()                                   # Sets theme for all plots\n",
    "\n",
    "# Initialises invidivual plots for figure\n",
    "fig, ax = plt.subplots(1, 3, figsize=(15, 5))\n",
    "fig.suptitle(\"Distributions (sex, children, smoker)\", size=\"large\", style=\"italic\", weight=\"bold\")\n",
    "sns.countplot(x=\"sex\", data=df, ax=ax[0])         # Shows a countplot of gender distribution\n",
    "sns.countplot(x=\"children\", data=df, ax=ax[1])    # Shows a countplot of children distribution\n",
    "sns.countplot(x=\"smoker\", data=df, ax=ax[2])      # Shows a countplot of smoker distribution\n",
    "\n",
    "# fig.savefig(\"../models/bar_feat_fig02.png\", bbox_inches=\"tight\")\n",
    "plt.show()"
   ]
  },
  {
   "cell_type": "markdown",
   "id": "0e9117a9",
   "metadata": {},
   "source": [
    "From the set of [`countplot`](https://seaborn.pydata.org/generated/seaborn.countplot.html) figures produced above, we can come to the following conclusions:\n",
    "- The distribution of male and female records is fairly equal.\n",
    "- The majority of records in the dataset indicate that those on a healthcare plan had no children, and the count value decreased gradually from 1-3 children and then dropped drastically and stabilised between 4 and 5 children.\n",
    "- There is roughly 4 times as many non-smokers than there are smokers."
   ]
  },
  {
   "cell_type": "code",
   "execution_count": 5,
   "id": "cc82523e",
   "metadata": {},
   "outputs": [
    {
     "data": {
      "image/png": "[encoded data removed]",
      "text/plain": [
       "<Figure size 432x288 with 1 Axes>"
      ]
     },
     "metadata": {},
     "output_type": "display_data"
    }
   ],
   "source": [
    "# Shows distribution of charges between smokers and non-smokers\n",
    "feat_fig03 = sns.histplot(df, x=\"charges\", hue=\"smoker\", \n",
    "        element=\"poly\").set_title(\"Charges (smoker and non-smoker)\", size=\"large\", style=\"italic\", weight=\"bold\")\n",
    "# feat_fig03.get_figure().savefig(\"../models/hist_feat_fig03.png\", bbox_inches=\"tight\")\n",
    "plt.show()"
   ]
  },
  {
   "cell_type": "markdown",
   "id": "47ac4972",
   "metadata": {},
   "source": [
    "From the [`histplot`](https://seaborn.pydata.org/generated/seaborn.histplot.html) figure produced above, we can see that:\n",
    "- The majority of non-smokers' charges were below 20,000 USD.\n",
    "- There is a trend that shows smokers are paying more for medical fees in comparison to non-smokers.\n",
    "- No non-smokers paid more than 40,000 whereas a lot of smokers were consistently paying more than 40,000 for medical fees."
   ]
  },
  {
   "cell_type": "code",
   "execution_count": 6,
   "id": "7c0e9979",
   "metadata": {},
   "outputs": [
    {
     "data": {
      "image/png": "[encoded data removed]",
      "text/plain": [
       "<Figure size 432x288 with 1 Axes>"
      ]
     },
     "metadata": {},
     "output_type": "display_data"
    }
   ],
   "source": [
    "# Shows a boxplot for distribution of charges over each region, without outliers\n",
    "feat_fig04 = sns.boxplot(data=df, x=\"charges\", y=\"region\", \n",
    "                showfliers=False).set_title(\"Charges (by region)\", size=\"large\", style=\"italic\", weight=\"bold\")\n",
    "# feat_fig04.get_figure().savefig(\"../models/box_feat_fig04.png\", bbox_inches=\"tight\")\n",
    "plt.show()"
   ]
  },
  {
   "cell_type": "markdown",
   "id": "f3f1febc",
   "metadata": {},
   "source": [
    "From the [`boxplot`](https://seaborn.pydata.org/generated/seaborn.boxplot.html) figure produced above, we can conclude that:\n",
    "- The southeastern region has the largest distribution of charges as well as the largest interquartile range.\n",
    "- The northeastern region has the highest median of charges out of the four regions.\n",
    "- The southwestern region has the smallest distribution of charges."
   ]
  },
  {
   "cell_type": "code",
   "execution_count": 7,
   "id": "d43e1aee",
   "metadata": {},
   "outputs": [
    {
     "data": {
      "image/png": "[encoded data removed]",
      "text/plain": [
       "<Figure size 360x360 with 1 Axes>"
      ]
     },
     "metadata": {},
     "output_type": "display_data"
    }
   ],
   "source": [
    "# Shows distribution of charges based on BMI values \n",
    "feat_fig05 = sns.displot(data=df, x=\"bmi\", y=\"charges\")\n",
    "feat_fig05.ax.set_title(\"BMI and Charges\", size=\"large\", style=\"italic\", weight=\"bold\")\n",
    "# feat_fig05.savefig(\"../models/dist_feat_fig05.png\", bbox_inches=\"tight\")\n",
    "plt.show()"
   ]
  },
  {
   "cell_type": "markdown",
   "id": "659b0935",
   "metadata": {},
   "source": [
    "From the [`displot`](https://seaborn.pydata.org/generated/seaborn.displot.html) figure above, we can see that:\n",
    "- The majority of patients have a BMI value between low-20 and mid-30 with a relatively lower healthcare charges.\n",
    "- Though it isn't directly shown by this plot, higher BMI can correlate to a higher medical fee."
   ]
  },
  {
   "cell_type": "code",
   "execution_count": 8,
   "id": "efb4764b",
   "metadata": {},
   "outputs": [
    {
     "data": {
      "image/png": "[encoded data removed]",
      "text/plain": [
       "<Figure size 1080x360 with 1 Axes>"
      ]
     },
     "metadata": {},
     "output_type": "display_data"
    }
   ],
   "source": [
    "# Shows boxplots for correlation between ages and charges, omitting outliers\n",
    "sns.set(rc={\"figure.figsize\": (15, 5)})\n",
    "feat_fig06 = sns.boxplot(data=df, x=\"age\", y=\"charges\", \n",
    "        showfliers=False, width=0.5).set_title(\"Charges (by age)\", size=\"large\", style=\"italic\", weight=\"bold\")\n",
    "# feat_fig06.get_figure().savefig(\"../models/box_feat_fig06.png\", bbox_inches=\"tight\")\n",
    "plt.show()"
   ]
  },
  {
   "cell_type": "markdown",
   "id": "2fed06df",
   "metadata": {},
   "source": [
    "The set of `boxplot` figures shown in the plot above illustrate the relationship between charges (target feature) and age. It is suggested that:\n",
    "- The minimum cost of a healthcare plan increases the older an individual is. \n",
    "- The largest spread of charges occurs at age 37.\n",
    "- Small distributions mean a few records for individuals of that age have been collected.  \n",
    "\n",
    "## Preprocessing the data\n",
    "\n",
    "Data preprocessing is essential in machine learning, as it ensures consistency in the data and relevant information used by a model, subsequently improving its ability to learn.\n",
    "\n",
    "Almost all datasets present in the real world contain some discrepancies, requiring us to identify missing data. In the case of our dataset, NA/null values are represented by `NaN`. This can be done by calling either [`isna`](https://pandas.pydata.org/pandas-docs/version/1.3.3/reference/api/pandas.DataFrame.isna.html) or [`isnull`](https://pandas.pydata.org/pandas-docs/version/1.3.3/reference/api/pandas.DataFrame.isnull.html), which both produce the same output."
   ]
  },
  {
   "cell_type": "code",
   "execution_count": 9,
   "id": "50d8c23e",
   "metadata": {},
   "outputs": [
    {
     "data": {
      "text/html": [
       "<div>\n",
       "<style scoped>\n",
       "    .dataframe tbody tr th:only-of-type {\n",
       "        vertical-align: middle;\n",
       "    }\n",
       "\n",
       "    .dataframe tbody tr th {\n",
       "        vertical-align: top;\n",
       "    }\n",
       "\n",
       "    .dataframe thead th {\n",
       "        text-align: right;\n",
       "    }\n",
       "</style>\n",
       "<table border=\"1\" class=\"dataframe\">\n",
       "  <thead>\n",
       "    <tr style=\"text-align: right;\">\n",
       "      <th></th>\n",
       "      <th>age</th>\n",
       "      <th>sex</th>\n",
       "      <th>bmi</th>\n",
       "      <th>children</th>\n",
       "      <th>smoker</th>\n",
       "      <th>region</th>\n",
       "      <th>charges</th>\n",
       "    </tr>\n",
       "  </thead>\n",
       "  <tbody>\n",
       "    <tr>\n",
       "      <th>0</th>\n",
       "      <td>False</td>\n",
       "      <td>False</td>\n",
       "      <td>False</td>\n",
       "      <td>False</td>\n",
       "      <td>False</td>\n",
       "      <td>False</td>\n",
       "      <td>False</td>\n",
       "    </tr>\n",
       "    <tr>\n",
       "      <th>1</th>\n",
       "      <td>False</td>\n",
       "      <td>False</td>\n",
       "      <td>False</td>\n",
       "      <td>False</td>\n",
       "      <td>False</td>\n",
       "      <td>False</td>\n",
       "      <td>False</td>\n",
       "    </tr>\n",
       "    <tr>\n",
       "      <th>2</th>\n",
       "      <td>False</td>\n",
       "      <td>False</td>\n",
       "      <td>False</td>\n",
       "      <td>False</td>\n",
       "      <td>False</td>\n",
       "      <td>False</td>\n",
       "      <td>False</td>\n",
       "    </tr>\n",
       "    <tr>\n",
       "      <th>3</th>\n",
       "      <td>False</td>\n",
       "      <td>False</td>\n",
       "      <td>False</td>\n",
       "      <td>False</td>\n",
       "      <td>False</td>\n",
       "      <td>False</td>\n",
       "      <td>False</td>\n",
       "    </tr>\n",
       "    <tr>\n",
       "      <th>4</th>\n",
       "      <td>False</td>\n",
       "      <td>False</td>\n",
       "      <td>False</td>\n",
       "      <td>False</td>\n",
       "      <td>False</td>\n",
       "      <td>False</td>\n",
       "      <td>False</td>\n",
       "    </tr>\n",
       "    <tr>\n",
       "      <th>...</th>\n",
       "      <td>...</td>\n",
       "      <td>...</td>\n",
       "      <td>...</td>\n",
       "      <td>...</td>\n",
       "      <td>...</td>\n",
       "      <td>...</td>\n",
       "      <td>...</td>\n",
       "    </tr>\n",
       "    <tr>\n",
       "      <th>1333</th>\n",
       "      <td>False</td>\n",
       "      <td>False</td>\n",
       "      <td>False</td>\n",
       "      <td>False</td>\n",
       "      <td>False</td>\n",
       "      <td>False</td>\n",
       "      <td>False</td>\n",
       "    </tr>\n",
       "    <tr>\n",
       "      <th>1334</th>\n",
       "      <td>False</td>\n",
       "      <td>False</td>\n",
       "      <td>False</td>\n",
       "      <td>False</td>\n",
       "      <td>False</td>\n",
       "      <td>False</td>\n",
       "      <td>False</td>\n",
       "    </tr>\n",
       "    <tr>\n",
       "      <th>1335</th>\n",
       "      <td>False</td>\n",
       "      <td>False</td>\n",
       "      <td>False</td>\n",
       "      <td>False</td>\n",
       "      <td>False</td>\n",
       "      <td>False</td>\n",
       "      <td>False</td>\n",
       "    </tr>\n",
       "    <tr>\n",
       "      <th>1336</th>\n",
       "      <td>False</td>\n",
       "      <td>False</td>\n",
       "      <td>False</td>\n",
       "      <td>False</td>\n",
       "      <td>False</td>\n",
       "      <td>False</td>\n",
       "      <td>False</td>\n",
       "    </tr>\n",
       "    <tr>\n",
       "      <th>1337</th>\n",
       "      <td>False</td>\n",
       "      <td>False</td>\n",
       "      <td>False</td>\n",
       "      <td>False</td>\n",
       "      <td>False</td>\n",
       "      <td>False</td>\n",
       "      <td>False</td>\n",
       "    </tr>\n",
       "  </tbody>\n",
       "</table>\n",
       "<p>1338 rows × 7 columns</p>\n",
       "</div>"
      ],
      "text/plain": [
       "        age    sex    bmi  children  smoker  region  charges\n",
       "0     False  False  False     False   False   False    False\n",
       "1     False  False  False     False   False   False    False\n",
       "2     False  False  False     False   False   False    False\n",
       "3     False  False  False     False   False   False    False\n",
       "4     False  False  False     False   False   False    False\n",
       "...     ...    ...    ...       ...     ...     ...      ...\n",
       "1333  False  False  False     False   False   False    False\n",
       "1334  False  False  False     False   False   False    False\n",
       "1335  False  False  False     False   False   False    False\n",
       "1336  False  False  False     False   False   False    False\n",
       "1337  False  False  False     False   False   False    False\n",
       "\n",
       "[1338 rows x 7 columns]"
      ]
     },
     "execution_count": 9,
     "metadata": {},
     "output_type": "execute_result"
    }
   ],
   "source": [
    "df.isna()    # Is each cell NA/null?"
   ]
  },
  {
   "cell_type": "markdown",
   "id": "1c05276f",
   "metadata": {},
   "source": [
    "For a clearer summary of any NA/null values in the dataset, calling [`sum`](https://pandas.pydata.org/pandas-docs/version/1.3.3/reference/api/pandas.DataFrame.sum.html) immediately after `isna` or `isnull` will calculate the number of `NaN` values found under each column in a given `DataFrame` object, as shown below."
   ]
  },
  {
   "cell_type": "code",
   "execution_count": 10,
   "id": "0a0b6fd5",
   "metadata": {},
   "outputs": [
    {
     "data": {
      "text/plain": [
       "age         0\n",
       "sex         0\n",
       "bmi         0\n",
       "children    0\n",
       "smoker      0\n",
       "region      0\n",
       "charges     0\n",
       "dtype: int64"
      ]
     },
     "execution_count": 10,
     "metadata": {},
     "output_type": "execute_result"
    }
   ],
   "source": [
    "df.isnull().sum()    # Outputs the number of NA/null values under each column"
   ]
  },
  {
   "cell_type": "markdown",
   "id": "a6e42aed",
   "metadata": {},
   "source": [
    "To retrieve relevant statistics (mean, ranges, quartiles, standard deviation) we made use of [`describe`](https://pandas.pydata.org/pandas-docs/version/1.3.3/reference/api/pandas.DataFrame.describe.html). Non-numeric columns/features (`sex`, `smoker`, `region`) are excluded by default."
   ]
  },
  {
   "cell_type": "code",
   "execution_count": 11,
   "id": "aee51b7d",
   "metadata": {},
   "outputs": [
    {
     "data": {
      "text/html": [
       "<div>\n",
       "<style scoped>\n",
       "    .dataframe tbody tr th:only-of-type {\n",
       "        vertical-align: middle;\n",
       "    }\n",
       "\n",
       "    .dataframe tbody tr th {\n",
       "        vertical-align: top;\n",
       "    }\n",
       "\n",
       "    .dataframe thead th {\n",
       "        text-align: right;\n",
       "    }\n",
       "</style>\n",
       "<table border=\"1\" class=\"dataframe\">\n",
       "  <thead>\n",
       "    <tr style=\"text-align: right;\">\n",
       "      <th></th>\n",
       "      <th>age</th>\n",
       "      <th>bmi</th>\n",
       "      <th>children</th>\n",
       "      <th>charges</th>\n",
       "    </tr>\n",
       "  </thead>\n",
       "  <tbody>\n",
       "    <tr>\n",
       "      <th>count</th>\n",
       "      <td>1338.000000</td>\n",
       "      <td>1338.000000</td>\n",
       "      <td>1338.000000</td>\n",
       "      <td>1338.000000</td>\n",
       "    </tr>\n",
       "    <tr>\n",
       "      <th>mean</th>\n",
       "      <td>39.207025</td>\n",
       "      <td>30.663397</td>\n",
       "      <td>1.094918</td>\n",
       "      <td>13270.422265</td>\n",
       "    </tr>\n",
       "    <tr>\n",
       "      <th>std</th>\n",
       "      <td>14.049960</td>\n",
       "      <td>6.098187</td>\n",
       "      <td>1.205493</td>\n",
       "      <td>12110.011237</td>\n",
       "    </tr>\n",
       "    <tr>\n",
       "      <th>min</th>\n",
       "      <td>18.000000</td>\n",
       "      <td>15.960000</td>\n",
       "      <td>0.000000</td>\n",
       "      <td>1121.873900</td>\n",
       "    </tr>\n",
       "    <tr>\n",
       "      <th>25%</th>\n",
       "      <td>27.000000</td>\n",
       "      <td>26.296250</td>\n",
       "      <td>0.000000</td>\n",
       "      <td>4740.287150</td>\n",
       "    </tr>\n",
       "    <tr>\n",
       "      <th>50%</th>\n",
       "      <td>39.000000</td>\n",
       "      <td>30.400000</td>\n",
       "      <td>1.000000</td>\n",
       "      <td>9382.033000</td>\n",
       "    </tr>\n",
       "    <tr>\n",
       "      <th>75%</th>\n",
       "      <td>51.000000</td>\n",
       "      <td>34.693750</td>\n",
       "      <td>2.000000</td>\n",
       "      <td>16639.912515</td>\n",
       "    </tr>\n",
       "    <tr>\n",
       "      <th>max</th>\n",
       "      <td>64.000000</td>\n",
       "      <td>53.130000</td>\n",
       "      <td>5.000000</td>\n",
       "      <td>63770.428010</td>\n",
       "    </tr>\n",
       "  </tbody>\n",
       "</table>\n",
       "</div>"
      ],
      "text/plain": [
       "               age          bmi     children       charges\n",
       "count  1338.000000  1338.000000  1338.000000   1338.000000\n",
       "mean     39.207025    30.663397     1.094918  13270.422265\n",
       "std      14.049960     6.098187     1.205493  12110.011237\n",
       "min      18.000000    15.960000     0.000000   1121.873900\n",
       "25%      27.000000    26.296250     0.000000   4740.287150\n",
       "50%      39.000000    30.400000     1.000000   9382.033000\n",
       "75%      51.000000    34.693750     2.000000  16639.912515\n",
       "max      64.000000    53.130000     5.000000  63770.428010"
      ]
     },
     "execution_count": 11,
     "metadata": {},
     "output_type": "execute_result"
    }
   ],
   "source": [
    "df.describe()    # Summary stats"
   ]
  },
  {
   "cell_type": "markdown",
   "id": "471c8ee8",
   "metadata": {},
   "source": [
    "From the figures above, we see that:\n",
    "- The average cost of a health insurance plan for an individual is 13,720 USD whilst the standard deviation lies at 12,110 USD.\n",
    "    - This suggests that costs are fairly dispersed due to the relatively small difference between both values.\n",
    "- The cheapest plan costs 1,122 USD in comparison to the most expensive at 63,770.\n",
    "- The average age is 39, the youngest being 18 and the oldest 64.\n",
    "- The average BMI value falls at around 31 with a standard deviation of 6.\n",
    "    - This indicates that the spread in BMI values amongst individuals in the dataset is relatively small.\n",
    "    \n",
    "As a final step in preprocessing the data, we must convert categorical variables in the dataset into dummy or indicator variables. This is required as machine learning models cannot make use of non-numerical values.\n",
    "\n",
    "We can make use of another function provided by the `pandas` library named [`get_dummies`](https://pandas.pydata.org/pandas-docs/version/1.3.3/reference/api/pandas.get_dummies.html). This allows us to work with more features, allowing for higher accuracy in the predictions produced by models. This function applies [**one-hot encoding**](https://en.wikipedia.org/wiki/One-hot#Machine_learning_and_statistics), a technique used to handle categorical (ordinal or nominal) variables by creating a column for each unique value the variable can take. These columns contain either 0 (representing false) or 1 (representing true).\n",
    "\n",
    "In our case, the columns `sex` (male or female), `smoker` (smoker or not) and `region` (NE, NW, SE, SW) are all examples of nominal data."
   ]
  },
  {
   "cell_type": "code",
   "execution_count": 12,
   "id": "aa557634",
   "metadata": {
    "scrolled": true
   },
   "outputs": [
    {
     "data": {
      "text/html": [
       "<div>\n",
       "<style scoped>\n",
       "    .dataframe tbody tr th:only-of-type {\n",
       "        vertical-align: middle;\n",
       "    }\n",
       "\n",
       "    .dataframe tbody tr th {\n",
       "        vertical-align: top;\n",
       "    }\n",
       "\n",
       "    .dataframe thead th {\n",
       "        text-align: right;\n",
       "    }\n",
       "</style>\n",
       "<table border=\"1\" class=\"dataframe\">\n",
       "  <thead>\n",
       "    <tr style=\"text-align: right;\">\n",
       "      <th></th>\n",
       "      <th>age</th>\n",
       "      <th>bmi</th>\n",
       "      <th>children</th>\n",
       "      <th>charges</th>\n",
       "      <th>sex_female</th>\n",
       "      <th>sex_male</th>\n",
       "      <th>smoker_no</th>\n",
       "      <th>smoker_yes</th>\n",
       "      <th>region_northeast</th>\n",
       "      <th>region_northwest</th>\n",
       "      <th>region_southeast</th>\n",
       "      <th>region_southwest</th>\n",
       "    </tr>\n",
       "  </thead>\n",
       "  <tbody>\n",
       "    <tr>\n",
       "      <th>0</th>\n",
       "      <td>19</td>\n",
       "      <td>27.900</td>\n",
       "      <td>0</td>\n",
       "      <td>16884.92400</td>\n",
       "      <td>1</td>\n",
       "      <td>0</td>\n",
       "      <td>0</td>\n",
       "      <td>1</td>\n",
       "      <td>0</td>\n",
       "      <td>0</td>\n",
       "      <td>0</td>\n",
       "      <td>1</td>\n",
       "    </tr>\n",
       "    <tr>\n",
       "      <th>1</th>\n",
       "      <td>18</td>\n",
       "      <td>33.770</td>\n",
       "      <td>1</td>\n",
       "      <td>1725.55230</td>\n",
       "      <td>0</td>\n",
       "      <td>1</td>\n",
       "      <td>1</td>\n",
       "      <td>0</td>\n",
       "      <td>0</td>\n",
       "      <td>0</td>\n",
       "      <td>1</td>\n",
       "      <td>0</td>\n",
       "    </tr>\n",
       "    <tr>\n",
       "      <th>2</th>\n",
       "      <td>28</td>\n",
       "      <td>33.000</td>\n",
       "      <td>3</td>\n",
       "      <td>4449.46200</td>\n",
       "      <td>0</td>\n",
       "      <td>1</td>\n",
       "      <td>1</td>\n",
       "      <td>0</td>\n",
       "      <td>0</td>\n",
       "      <td>0</td>\n",
       "      <td>1</td>\n",
       "      <td>0</td>\n",
       "    </tr>\n",
       "    <tr>\n",
       "      <th>3</th>\n",
       "      <td>33</td>\n",
       "      <td>22.705</td>\n",
       "      <td>0</td>\n",
       "      <td>21984.47061</td>\n",
       "      <td>0</td>\n",
       "      <td>1</td>\n",
       "      <td>1</td>\n",
       "      <td>0</td>\n",
       "      <td>0</td>\n",
       "      <td>1</td>\n",
       "      <td>0</td>\n",
       "      <td>0</td>\n",
       "    </tr>\n",
       "    <tr>\n",
       "      <th>4</th>\n",
       "      <td>32</td>\n",
       "      <td>28.880</td>\n",
       "      <td>0</td>\n",
       "      <td>3866.85520</td>\n",
       "      <td>0</td>\n",
       "      <td>1</td>\n",
       "      <td>1</td>\n",
       "      <td>0</td>\n",
       "      <td>0</td>\n",
       "      <td>1</td>\n",
       "      <td>0</td>\n",
       "      <td>0</td>\n",
       "    </tr>\n",
       "  </tbody>\n",
       "</table>\n",
       "</div>"
      ],
      "text/plain": [
       "   age     bmi  children      charges  sex_female  sex_male  smoker_no  \\\n",
       "0   19  27.900         0  16884.92400           1         0          0   \n",
       "1   18  33.770         1   1725.55230           0         1          1   \n",
       "2   28  33.000         3   4449.46200           0         1          1   \n",
       "3   33  22.705         0  21984.47061           0         1          1   \n",
       "4   32  28.880         0   3866.85520           0         1          1   \n",
       "\n",
       "   smoker_yes  region_northeast  region_northwest  region_southeast  \\\n",
       "0           1                 0                 0                 0   \n",
       "1           0                 0                 0                 1   \n",
       "2           0                 0                 0                 1   \n",
       "3           0                 0                 1                 0   \n",
       "4           0                 0                 1                 0   \n",
       "\n",
       "   region_southwest  \n",
       "0                 1  \n",
       "1                 0  \n",
       "2                 0  \n",
       "3                 0  \n",
       "4                 0  "
      ]
     },
     "execution_count": 12,
     "metadata": {},
     "output_type": "execute_result"
    }
   ],
   "source": [
    "df_proc = pd.get_dummies(df.copy(deep=True))    # Converts non-numerical columns into dummy/indicator columns\n",
    "df_proc.head()"
   ]
  },
  {
   "cell_type": "markdown",
   "id": "6e33ee6d",
   "metadata": {},
   "source": [
    "A deep copy of the original dataset is created by calling [`copy`](https://pandas.pydata.org/pandas-docs/version/1.3.3/reference/api/pandas.DataFrame.copy.html), instead of overwriting in case it is required later on. The result is a newly initialised `DataFrame` object stored in `df_proc`, with the first 5 rows displayed in the cell above.\n",
    "\n",
    "The following cell saves the processed data in a separate CSV file (using [`to_csv`](https://pandas.pydata.org/pandas-docs/version/1.3.3/reference/api/pandas.DataFrame.to_csv.html)) within `data/` in case it is required later on."
   ]
  },
  {
   "cell_type": "code",
   "execution_count": 13,
   "id": "57e6c956",
   "metadata": {},
   "outputs": [
    {
     "name": "stdout",
     "output_type": "stream",
     "text": [
      ">> Processed data saved successfully to: ../data/healthcare_proc.csv\n"
     ]
    }
   ],
   "source": [
    "# Saves processed data as a new (.csv) file\n",
    "save = os.path.join(path, \"healthcare_proc.csv\")\n",
    "# df_proc.to_csv(save, index=False)\n",
    "\n",
    "# Checks whether saving was successful\n",
    "print(f\">> Processed data saved successfully to: {save}\") if os.path.exists(save) else print(f\">> Error saving to: {save}\")"
   ]
  },
  {
   "cell_type": "markdown",
   "id": "5e957931",
   "metadata": {},
   "source": [
    "## Identifying feature and target data\n",
    "\n",
    "The following step involves declaring the feature and target values from our processed data, which will be stored in `X` and `y` respectively. These will be reused in upcoming sections of the notebook to produce the training and testing subsets used by each of the regression models built."
   ]
  },
  {
   "cell_type": "code",
   "execution_count": 14,
   "id": "8d306f45",
   "metadata": {},
   "outputs": [
    {
     "name": "stdout",
     "output_type": "stream",
     "text": [
      ">>  Feature data:\n",
      "[[19.    27.9    0.     1.     0.     0.     1.     0.     0.     0.\n",
      "   1.   ]\n",
      " [18.    33.77   1.     0.     1.     1.     0.     0.     0.     1.\n",
      "   0.   ]\n",
      " [28.    33.     3.     0.     1.     1.     0.     0.     0.     1.\n",
      "   0.   ]\n",
      " [33.    22.705  0.     0.     1.     1.     0.     0.     1.     0.\n",
      "   0.   ]\n",
      " [32.    28.88   0.     0.     1.     1.     0.     0.     1.     0.\n",
      "   0.   ]]\n",
      "\n",
      ">>   Target data:\n",
      "[16884.924    1725.5523   4449.462   21984.47061  3866.8552 ]\n"
     ]
    }
   ],
   "source": [
    "# Collects values of non-target features and target feature\n",
    "X = df_proc[[x for x in df_proc.columns if not \"charges\" in x]].values\n",
    "y = df_proc[\"charges\"].values\n",
    "\n",
    "# Outputs the first 5 values from the feature and target data\n",
    "print(f\">>  Feature data:\\n{X[:5]}\\n\")\n",
    "print(f\">>   Target data:\\n{y[:5]}\")"
   ]
  },
  {
   "cell_type": "markdown",
   "id": "bfde6c63",
   "metadata": {},
   "source": [
    "## Prediction using Linear Regression\n",
    "\n",
    "Now that the feature and target data has been defined, we'll be making use of [`sklearn`](https://scikit-learn.org/stable/modules/classes.html) (another resourceful machine learning library for Python) to produce a series of regression models, starting with linear regression. This will be done through the [`LinearRegression`](https://scikit-learn.org/stable/modules/generated/sklearn.linear_model.LinearRegression.html) class."
   ]
  },
  {
   "cell_type": "markdown",
   "id": "0ff670d2",
   "metadata": {},
   "source": [
    "Now that we have the feature and target data, we can split the data into training and testing subsets 75:25 using [`train_test_split`](https://scikit-learn.org/stable/modules/generated/sklearn.model_selection.train_test_split.html). We follow this by a call to [`fit`](https://scikit-learn.org/stable/modules/generated/sklearn.linear_model.LinearRegression.html#sklearn.linear_model.LinearRegression.fit) on our linear regression model."
   ]
  },
  {
   "cell_type": "code",
   "execution_count": 15,
   "id": "0a852158",
   "metadata": {},
   "outputs": [],
   "source": [
    "%%capture\n",
    "\n",
    "# Required classes/modules\n",
    "import numpy as np\n",
    "from sklearn.metrics import mean_squared_error, r2_score\n",
    "from sklearn.model_selection import cross_val_score, train_test_split \n",
    "from sklearn.linear_model import LinearRegression\n",
    "\n",
    "# Split the data into random train and test subsets\n",
    "X_train, X_test, y_train, y_test = train_test_split(X, y, test_size=0.25, random_state=909) \n",
    "\n",
    "# Builds the LinearRegression model and fits the training data\n",
    "linreg_model = LinearRegression()\n",
    "linreg_model.fit(X_train, y_train)"
   ]
  },
  {
   "cell_type": "markdown",
   "id": "b3b72b2d",
   "metadata": {},
   "source": [
    "Now that we have built and trained the model, we can use [`cross_val_score`](https://scikit-learn.org/stable/modules/generated/sklearn.model_selection.cross_val_score.html) to produce cross-validation values to measure the skill of the model. A prediction is produced using the [`predict`](https://scikit-learn.org/stable/modules/generated/sklearn.linear_model.LinearRegression.html#sklearn.linear_model.LinearRegression.predict) function; these will be compared against the actual values later on, which are stored in `y_test`."
   ]
  },
  {
   "cell_type": "code",
   "execution_count": 16,
   "id": "a3844523",
   "metadata": {},
   "outputs": [
    {
     "data": {
      "text/plain": [
       "array([ 1438.80623973, 12311.61386309, 39791.84553191,  6868.70742296,\n",
       "       24537.21893189])"
      ]
     },
     "execution_count": 16,
     "metadata": {},
     "output_type": "execute_result"
    }
   ],
   "source": [
    "linreg_cv = cross_val_score(linreg_model, X, y, cv=10).mean()    # Produces CV score for LinearRegression model\n",
    "\n",
    "# Produces a prediction and outputs the first 5 values\n",
    "y_pred = linreg_model.predict(X_test)\n",
    "y_pred[:5]"
   ]
  },
  {
   "cell_type": "markdown",
   "id": "b01a5e0b",
   "metadata": {},
   "source": [
    "With our prediction in place, we make use of the imported modules [`numpy`](https://www.numpy.org/doc/stable/) (a comprehensive mathematical and numerical library for Python) and [`sklearn.metrics`](https://scikit-learn.org/stable/modules/classes.html?highlight=metrics#module-sklearn.metrics) in order to calculate the mean of the predicted values, the root squared mean error (RMSE) by calling [`mean_squared_error`](https://scikit-learn.org/stable/modules/generated/sklearn.metrics.mean_squared_error.html) as well as the R² score using [`r2_score`](https://scikit-learn.org/stable/modules/generated/sklearn.metrics.r2_score.html). \n",
    "\n",
    "Each of these is shown in the following cells, and give us an indication of the model's prediction accuracy."
   ]
  },
  {
   "cell_type": "code",
   "execution_count": 17,
   "id": "7c235cb3",
   "metadata": {},
   "outputs": [
    {
     "name": "stdout",
     "output_type": "stream",
     "text": [
      ">>  Predicted mean: 12607.678939074629\n",
      ">>     10% of mean: 1260.767893907463\n",
      ">>            RMSE: 5539.9913458334395\n",
      ">>        CV score: 0.7445006998667603\n",
      ">>        R² score: 0.7719919249127084\n"
     ]
    }
   ],
   "source": [
    "# Determines performance metrics (mean, RMSE, R²)\n",
    "linreg_mean = np.mean(y_test)\n",
    "linreg_rmse = np.sqrt(mean_squared_error(y_test, y_pred))\n",
    "linreg_r2 = r2_score(y_test, y_pred)\n",
    "\n",
    "# Performance metrics outputs\n",
    "print(f\">>  Predicted mean: {linreg_mean}\")\n",
    "print(f\">>     10% of mean: {linreg_mean*0.1}\")\n",
    "print(f\">>            RMSE: {linreg_rmse}\")\n",
    "print(f\">>        CV score: {linreg_cv}\")\n",
    "print(f\">>        R² score: {linreg_r2}\")"
   ]
  },
  {
   "cell_type": "markdown",
   "id": "74729bd7",
   "metadata": {},
   "source": [
    "As we know, 10% (or less) of the mean is considered a good score for the RMSE value. However, we can see that our model has produced an RMSE value much higher than this.\n",
    "\n",
    "The [`regplot`](https://seaborn.pydata.org/generated/seaborn.regplot.html) function provided in the `seaborn` module takes a `DataFrame` object (initialised with our test subset and predicted values) and outputs a plot of the prediction produced by the model against the actual values."
   ]
  },
  {
   "cell_type": "code",
   "execution_count": 18,
   "id": "a1c45540",
   "metadata": {},
   "outputs": [
    {
     "data": {
      "image/png": "[encoded data removed]",
      "text/plain": [
       "<Figure size 432x288 with 1 Axes>"
      ]
     },
     "metadata": {},
     "output_type": "display_data"
    }
   ],
   "source": [
    "# Displays a plot of actual against predicted values for LinearRegression model\n",
    "sns.reset_orig()\n",
    "sns.set_theme()\n",
    "linreg_fig = sns.regplot(x=\"Actual\", y=\"Predicted\", data=pd.DataFrame({\"Actual\": y_test, \"Predicted\": y_pred}), \n",
    "                         line_kws={\"color\": \"red\"})\n",
    "linreg_fig.set_title(\"Predictions (LinearRegression)\", size=\"large\", style=\"italic\", weight=\"bold\")\n",
    "# linreg_fig.get_figure().savefig(\"../models/linreg_fig01.png\", bbox_inches=\"tight\")\n",
    "plt.show()"
   ]
  },
  {
   "cell_type": "markdown",
   "id": "ce458b57",
   "metadata": {},
   "source": [
    "As shown in the graph, we have a considerable amount of data points that are not in correlation with the rest of the model, as shown by their noticable distance from the regression line. In order to handle this, we shall apply standardisation (also known as normalisation) using the `sklearn` module; this is necessary in further removing noise from the data.\n",
    "\n",
    "## Standardising the data\n",
    "\n",
    "We must normalise our data in order to overcome any outliers, as mentioned above. For this, we will use the [`fit_transform`](https://scikit-learn.org/stable/modules/generated/sklearn.preprocessing.StandardScaler.html#sklearn.preprocessing.StandardScaler.fit_transform) function provided by the [`StandardScaler`](https://scikit-learn.org/stable/modules/generated/sklearn.preprocessing.StandardScaler.html) class within `sklearn` to scale a copy of the dataset accordingly."
   ]
  },
  {
   "cell_type": "code",
   "execution_count": 19,
   "id": "d26faf5e",
   "metadata": {},
   "outputs": [
    {
     "data": {
      "text/html": [
       "<div>\n",
       "<style scoped>\n",
       "    .dataframe tbody tr th:only-of-type {\n",
       "        vertical-align: middle;\n",
       "    }\n",
       "\n",
       "    .dataframe tbody tr th {\n",
       "        vertical-align: top;\n",
       "    }\n",
       "\n",
       "    .dataframe thead th {\n",
       "        text-align: right;\n",
       "    }\n",
       "</style>\n",
       "<table border=\"1\" class=\"dataframe\">\n",
       "  <thead>\n",
       "    <tr style=\"text-align: right;\">\n",
       "      <th></th>\n",
       "      <th>age</th>\n",
       "      <th>bmi</th>\n",
       "      <th>children</th>\n",
       "      <th>charges</th>\n",
       "      <th>sex_female</th>\n",
       "      <th>sex_male</th>\n",
       "      <th>smoker_no</th>\n",
       "      <th>smoker_yes</th>\n",
       "      <th>region_northeast</th>\n",
       "      <th>region_northwest</th>\n",
       "      <th>region_southeast</th>\n",
       "      <th>region_southwest</th>\n",
       "    </tr>\n",
       "  </thead>\n",
       "  <tbody>\n",
       "    <tr>\n",
       "      <th>0</th>\n",
       "      <td>-1.438764</td>\n",
       "      <td>-0.453320</td>\n",
       "      <td>-0.908614</td>\n",
       "      <td>16884.92400</td>\n",
       "      <td>1</td>\n",
       "      <td>0</td>\n",
       "      <td>0</td>\n",
       "      <td>1</td>\n",
       "      <td>0</td>\n",
       "      <td>0</td>\n",
       "      <td>0</td>\n",
       "      <td>1</td>\n",
       "    </tr>\n",
       "    <tr>\n",
       "      <th>1</th>\n",
       "      <td>-1.509965</td>\n",
       "      <td>0.509621</td>\n",
       "      <td>-0.078767</td>\n",
       "      <td>1725.55230</td>\n",
       "      <td>0</td>\n",
       "      <td>1</td>\n",
       "      <td>1</td>\n",
       "      <td>0</td>\n",
       "      <td>0</td>\n",
       "      <td>0</td>\n",
       "      <td>1</td>\n",
       "      <td>0</td>\n",
       "    </tr>\n",
       "    <tr>\n",
       "      <th>2</th>\n",
       "      <td>-0.797954</td>\n",
       "      <td>0.383307</td>\n",
       "      <td>1.580926</td>\n",
       "      <td>4449.46200</td>\n",
       "      <td>0</td>\n",
       "      <td>1</td>\n",
       "      <td>1</td>\n",
       "      <td>0</td>\n",
       "      <td>0</td>\n",
       "      <td>0</td>\n",
       "      <td>1</td>\n",
       "      <td>0</td>\n",
       "    </tr>\n",
       "    <tr>\n",
       "      <th>3</th>\n",
       "      <td>-0.441948</td>\n",
       "      <td>-1.305531</td>\n",
       "      <td>-0.908614</td>\n",
       "      <td>21984.47061</td>\n",
       "      <td>0</td>\n",
       "      <td>1</td>\n",
       "      <td>1</td>\n",
       "      <td>0</td>\n",
       "      <td>0</td>\n",
       "      <td>1</td>\n",
       "      <td>0</td>\n",
       "      <td>0</td>\n",
       "    </tr>\n",
       "    <tr>\n",
       "      <th>4</th>\n",
       "      <td>-0.513149</td>\n",
       "      <td>-0.292556</td>\n",
       "      <td>-0.908614</td>\n",
       "      <td>3866.85520</td>\n",
       "      <td>0</td>\n",
       "      <td>1</td>\n",
       "      <td>1</td>\n",
       "      <td>0</td>\n",
       "      <td>0</td>\n",
       "      <td>1</td>\n",
       "      <td>0</td>\n",
       "      <td>0</td>\n",
       "    </tr>\n",
       "  </tbody>\n",
       "</table>\n",
       "</div>"
      ],
      "text/plain": [
       "        age       bmi  children      charges  sex_female  sex_male  smoker_no  \\\n",
       "0 -1.438764 -0.453320 -0.908614  16884.92400           1         0          0   \n",
       "1 -1.509965  0.509621 -0.078767   1725.55230           0         1          1   \n",
       "2 -0.797954  0.383307  1.580926   4449.46200           0         1          1   \n",
       "3 -0.441948 -1.305531 -0.908614  21984.47061           0         1          1   \n",
       "4 -0.513149 -0.292556 -0.908614   3866.85520           0         1          1   \n",
       "\n",
       "   smoker_yes  region_northeast  region_northwest  region_southeast  \\\n",
       "0           1                 0                 0                 0   \n",
       "1           0                 0                 0                 1   \n",
       "2           0                 0                 0                 1   \n",
       "3           0                 0                 1                 0   \n",
       "4           0                 0                 1                 0   \n",
       "\n",
       "   region_southwest  \n",
       "0                 1  \n",
       "1                 0  \n",
       "2                 0  \n",
       "3                 0  \n",
       "4                 0  "
      ]
     },
     "execution_count": 19,
     "metadata": {},
     "output_type": "execute_result"
    }
   ],
   "source": [
    "# Required classes/modules\n",
    "from sklearn.preprocessing import StandardScaler\n",
    "\n",
    "# Creates a StandardScaler instance to transform data\n",
    "ss = StandardScaler()\n",
    "df_scaled = df_proc.copy(deep=True)\n",
    "df_scaled[[\"age\", \"bmi\", \"children\"]] = ss.fit_transform(df_proc[[\"age\", \"bmi\", \"children\"]])\n",
    "df_scaled.head()"
   ]
  },
  {
   "cell_type": "markdown",
   "id": "4ced2727",
   "metadata": {},
   "source": [
    "As shown in the preview of the `DataFrame` above, the non-target features we have specified have been normalised. In the cell below, we have redefined our feature and target data to account for this."
   ]
  },
  {
   "cell_type": "code",
   "execution_count": 20,
   "id": "ed575c40",
   "metadata": {},
   "outputs": [
    {
     "name": "stdout",
     "output_type": "stream",
     "text": [
      ">>  Feature data (scaled):\n",
      "[[-1.43876426 -0.45332    -0.90861367  1.          0.          0.\n",
      "   1.          0.          0.          0.          1.        ]\n",
      " [-1.50996545  0.5096211  -0.07876719  0.          1.          1.\n",
      "   0.          0.          0.          1.          0.        ]\n",
      " [-0.79795355  0.38330685  1.58092576  0.          1.          1.\n",
      "   0.          0.          0.          1.          0.        ]\n",
      " [-0.4419476  -1.30553108 -0.90861367  0.          1.          1.\n",
      "   0.          0.          1.          0.          0.        ]\n",
      " [-0.51314879 -0.29255641 -0.90861367  0.          1.          1.\n",
      "   0.          0.          1.          0.          0.        ]]\n",
      "\n",
      ">>   Target data (scaled):\n",
      "[16884.924    1725.5523   4449.462   21984.47061  3866.8552 ]\n"
     ]
    }
   ],
   "source": [
    "# Recollects feature and target data from copy of normalised DataFrame\n",
    "X_scaled = df_scaled[[x for x in df_scaled.columns if not \"charges\" in x]].values\n",
    "y_scaled = df_scaled[\"charges\"].values\n",
    "\n",
    "# Outputs the first 5 values from the scaled feature and target data\n",
    "print(f\">>  Feature data (scaled):\\n{X_scaled[:5]}\\n\")\n",
    "print(f\">>   Target data (scaled):\\n{y_scaled[:5]}\")"
   ]
  },
  {
   "cell_type": "code",
   "execution_count": 21,
   "id": "5329705f",
   "metadata": {
    "scrolled": true
   },
   "outputs": [
    {
     "name": "stdout",
     "output_type": "stream",
     "text": [
      ">>         Mean: 13215.421687791046\n",
      ">>  10% of Mean: 1321.5421687791047\n",
      ">>         RMSE: 6117.372256580999\n",
      ">>     CV score: 0.7445006998667603\n",
      ">>     R² score: 0.7296407620154338\n"
     ]
    }
   ],
   "source": [
    "# Resplits training and testing subsets with scaled data for an updated LinearRegression model\n",
    "X_train, X_test, y_train, y_test = train_test_split(X_scaled, y_scaled, test_size=0.25, random_state=611)\n",
    "\n",
    "linreg_model = LinearRegression()\n",
    "linreg_model.fit(X_train, y_train)\n",
    "\n",
    "# Updates CV score and prediction\n",
    "linreg_cv = cross_val_score(linreg_model, X_scaled, y_scaled, cv=10).mean()\n",
    "y_pred = linreg_model.predict(X_test)\n",
    "\n",
    "# Updates and outputs performance metrics\n",
    "linreg_mean = np.mean(y_test)\n",
    "linreg_rmse = np.sqrt(mean_squared_error(y_test, y_pred))\n",
    "linreg_r2 = r2_score(y_test, y_pred)\n",
    "\n",
    "print(f\">>         Mean: {linreg_mean}\")\n",
    "print(f\">>  10% of Mean: {linreg_mean*0.1}\")\n",
    "print(f\">>         RMSE: {linreg_rmse}\")\n",
    "print(f\">>     CV score: {linreg_cv}\")\n",
    "print(f\">>     R² score: {linreg_r2}\")"
   ]
  },
  {
   "cell_type": "markdown",
   "id": "c8660f69",
   "metadata": {},
   "source": [
    "We can see from the performance values, specifically the CV score (identical to unnormalised data), that scaling features has made little to no difference in the overall accuracy of the model.\n",
    "\n",
    "## Prediction using Polynomial (2nd Degree) Regression\n",
    "\n",
    "This type of model is considered an extension of linear regression. We require [`PolynomialFeatures`](https://scikit-learn.org/stable/modules/generated/sklearn.preprocessing.PolynomialFeatures.html) from the `sklearn.preprocessing` module, which will be used along with an instance of `LinearRegression` in a call to the [`make_pipeline`](https://scikit-learn.org/stable/modules/generated/sklearn.pipeline.make_pipeline.html) function (imported from `sklearn.pipeline`) to create a [`Pipeline`](https://scikit-learn.org/stable/modules/generated/sklearn.pipeline.Pipeline.html) object. This is then used to apply a series of transformations to fit a polynomial function (to the 2nd degree in our case) to our data."
   ]
  },
  {
   "cell_type": "code",
   "execution_count": 22,
   "id": "b997c13c",
   "metadata": {},
   "outputs": [
    {
     "name": "stdout",
     "output_type": "stream",
     "text": [
      ">>          Mean: 12607.678939074629\n",
      ">>   10% of Mean: 1260.767893907463\n",
      ">>          RMSE: 4787.444060423128\n",
      ">>      CV score: 0.7599433814180039\n",
      ">>      R² score: 0.8297294729217045\n"
     ]
    }
   ],
   "source": [
    "# Required classes/modules\n",
    "from sklearn.preprocessing import PolynomialFeatures\n",
    "from sklearn.pipeline import make_pipeline\n",
    "\n",
    "# Splits the data into random train and test subsets\n",
    "X_train, X_test, y_train, y_test = train_test_split(X, y, test_size=0.25, random_state=909) \n",
    "\n",
    "# Initialises a PolynomialRegression model (2nd degree by default)\n",
    "polyreg_model = make_pipeline(PolynomialFeatures(), LinearRegression())\n",
    "\n",
    "# Fits the training data and produces prediction\n",
    "polyreg_model = polyreg_model.fit(X_train, y_train)\n",
    "y_pred = polyreg_model.predict(X_test)\n",
    "\n",
    "# Evaluates accuracy of PolynomialRegression using mean, CV and R² scores\n",
    "polyreg_mean = np.mean(y_test)\n",
    "polyreg_rmse = np.sqrt(mean_squared_error(y_test, y_pred))\n",
    "polyreg_cv = cross_val_score(polyreg_model, X, y, cv=10).mean()\n",
    "polyreg_r2 = r2_score(y_test, y_pred)\n",
    "\n",
    "# Outputs performance values\n",
    "print(f\">>          Mean: {polyreg_mean}\")\n",
    "print(f\">>   10% of Mean: {polyreg_mean*0.1}\")\n",
    "print(f\">>          RMSE: {polyreg_rmse}\")\n",
    "print(f\">>      CV score: {polyreg_cv}\")\n",
    "print(f\">>      R² score: {polyreg_r2}\")"
   ]
  },
  {
   "cell_type": "markdown",
   "id": "492ced2a",
   "metadata": {},
   "source": [
    "This model yields improved performance values (higher cross-validation and R² scores, along with a lower RMSE) and in comparison to those produced by the linear regression model, suggesting that our data is more suited to a polynomial function.\n",
    "\n",
    "## Prediction using a Support Vector Machine (Regression)\n",
    "\n",
    "Another type of model used in our analysis are support vector machines (SVM), which are widely used in machine learning problems dealing with classification. Although we have a regression problem at hand, the principles of SVMs can still be applied.\n",
    "\n",
    "This supervised learning algorithm tries to achieve the best separation of given data within the margins (known as decision boundaries) either side of a dividing line or curve (referred to as a hyperplane in higher dimensions) by maximizing them such that the points closest to the hyperplane are within this boundary.\n",
    "\n",
    "We require the [`SVR`](https://scikit-learn.org/stable/modules/generated/sklearn.svm.SVR.html) class available in `sklearn.svm` in order to build the SVR model. The cell below makes use of both [`fit`](https://scikit-learn.org/stable/modules/generated/sklearn.svm.SVR.html#sklearn.svm.SVR.fit) with the training data and [`predict`](https://scikit-learn.org/stable/modules/generated/sklearn.svm.SVR.html#sklearn.svm.SVR.predict) with the testing data in an identical way to our linear regression model, with the R² score calculated the same way. The cross-validation score is taken from hyperparameter optimisation done using the [`GridSearch`](https://scikit-learn.org/stable/modules/generated/sklearn.model_selection.GridSearchCV.html) class from `sklearn`."
   ]
  },
  {
   "cell_type": "code",
   "execution_count": 23,
   "id": "a7116ec4",
   "metadata": {},
   "outputs": [
    {
     "name": "stdout",
     "output_type": "stream",
     "text": [
      "Fitting 10 folds for each of 90 candidates, totalling 900 fits\n",
      ">>  SVR optimal params: {'C': 100, 'gamma': 0.001, 'kernel': 'linear', 'tol': 0.0001}\n",
      ">>            CV score: 0.5744272686770664\n",
      ">>            R² score: 0.589481053200321\n"
     ]
    }
   ],
   "source": [
    "# Required classes/modules\n",
    "from sklearn.svm import SVR\n",
    "from sklearn.model_selection import GridSearchCV\n",
    "\n",
    "# Repeats steps from previous cells to split data into training and testing subsets\n",
    "X_train, X_test, y_train, y_test = train_test_split(X, y, test_size=0.25, random_state=87)\n",
    "\n",
    "# Initialises the SVR model\n",
    "svr_model = SVR()\n",
    "\n",
    "# Defines hypertuning parameters\n",
    "params = {\n",
    "    \"kernel\": [\"rbf\", \"sigmoid\", \"linear\"],\n",
    "    \"gamma\": [0.001, 0.01, 0.1, 1, \"scale\"],\n",
    "    \"tol\": [0.0001],\n",
    "    \"C\": [0.001, 0.01, 0.1, 1, 10, 100]\n",
    "}\n",
    "\n",
    "# Performs GridSearch with specified params\n",
    "svr_model = GridSearchCV(estimator=svr_model, \n",
    "                         param_grid=params,\n",
    "                         cv=10,\n",
    "                         verbose=4,\n",
    "                         n_jobs=-1\n",
    "                        )\n",
    "\n",
    "svr_model = svr_model.fit(X_train, y_train)    # Fits training subsets to model\n",
    "y_pred = svr_model.predict(X_test)             # Produces prediction\n",
    "\n",
    "# Determines CV and R² scores\n",
    "svr_cv = svr_model.best_score_\n",
    "svr_r2 = r2_score(y_test, y_pred)\n",
    "\n",
    "# Outputs hypertuning results and performance metrics\n",
    "print(f\">>  SVR optimal params: {svr_model.best_params_}\")\n",
    "print(f\">>            CV score: {svr_cv}\")\n",
    "print(f\">>            R² score: {svr_r2}\")"
   ]
  },
  {
   "cell_type": "markdown",
   "id": "6f5af428",
   "metadata": {},
   "source": [
    "As shown by the performance metrics above, a CV score of 57.4% alongside a R² score of 58.9% for the SVR model built indicates relatively poor accuracy. The following cell will scale both feature and target data, reperforming the hyptertuning process."
   ]
  },
  {
   "cell_type": "code",
   "execution_count": 24,
   "id": "d1579f65",
   "metadata": {},
   "outputs": [
    {
     "name": "stdout",
     "output_type": "stream",
     "text": [
      "Fitting 10 folds for each of 90 candidates, totalling 900 fits\n",
      ">>  SVR optimal params: {'C': 10, 'gamma': 0.01, 'kernel': 'rbf', 'tol': 0.0001}\n",
      ">>            CV score: 0.8515010188236186\n",
      ">>            R² score: 0.8102227232360266\n"
     ]
    }
   ],
   "source": [
    "# Scales feature and target data\n",
    "X_scal = ss.fit_transform(X)\n",
    "y_scal = ss.fit_transform(y.reshape(-1, 1))\n",
    "\n",
    "# Splits scaled data into training and testing subsets\n",
    "X_train, X_test, y_train, y_test = train_test_split(X_scal, y_scal, test_size=0.25, random_state=87)\n",
    "\n",
    "# Performs new GridSearch with params defined previously\n",
    "svr_model = SVR()\n",
    "svr_model = GridSearchCV(estimator=svr_model, \n",
    "                         param_grid=params,\n",
    "                         cv=10,\n",
    "                         verbose=4,\n",
    "                         n_jobs=-1\n",
    "                        )\n",
    "\n",
    "svr_model = svr_model.fit(X_train, y_train.flatten())    # Fits training subsets to model\n",
    "y_pred = svr_model.predict(X_test)                       # Updates prediction\n",
    "\n",
    "# Updates CV and R² scores\n",
    "svr_cv = svr_model.best_score_\n",
    "svr_r2 = r2_score(y_test, y_pred)\n",
    "\n",
    "# Outputs updated hypertuning results and performance metrics\n",
    "print(f\">>  SVR optimal params: {svr_model.best_params_}\")\n",
    "print(f\">>            CV score: {svr_cv}\")\n",
    "print(f\">>            R² score: {svr_r2}\")"
   ]
  },
  {
   "cell_type": "markdown",
   "id": "36f37983",
   "metadata": {},
   "source": [
    "Scaling both the feature and target data based on `X` and `y` has made a huge difference in the accuracy of the SVR model, as both the cross-validation and R² scores have increased by approximately half of the initially observed values for each metric.\n",
    "\n",
    "## Prediction using a Decision Tree (Regression)\n",
    "\n",
    "Decision trees are a supervised learning technique with similar properties to a regular tree in both a structural (collection of nodes) and representational (easy to read, interpret and visualise) sense. Since we have a regression problem at hand, each leaf node is equivalent to a value, which is reached by sending a query that takes a certain branch depending on the test outcome at each node (a feature from our data) visited.\n",
    "\n",
    "The [`DecisionTreeRegressor`](https://scikit-learn.org/stable/modules/generated/sklearn.tree.DecisionTreeRegressor.html) class found in `sklearn.tree` is required to implement this model, along with the previously used `GridSearch` class to carry out the hypertuning process, from which the cross-validation score will be retrieved."
   ]
  },
  {
   "cell_type": "code",
   "execution_count": 25,
   "id": "e3bc2081",
   "metadata": {},
   "outputs": [
    {
     "name": "stdout",
     "output_type": "stream",
     "text": [
      "Fitting 10 folds for each of 1080 candidates, totalling 10800 fits\n",
      ">>  DecisionTree optimal params: {'criterion': 'mse', 'max_depth': 5, 'min_samples_leaf': 10, 'min_samples_split': 2, 'random_state': 42}\n",
      ">>                     CV score: 0.8504449517132711\n",
      ">>                     R² score: 0.8429405272256358\n"
     ]
    }
   ],
   "source": [
    "# Required classes/modules\n",
    "from sklearn.tree import DecisionTreeRegressor\n",
    "\n",
    "# Repeats steps from cell above to split data into training and testing subsets\n",
    "X_train, X_test, y_train, y_test = train_test_split(X, y, test_size=0.25, random_state=68)\n",
    "\n",
    "# Initialises DecisionTreeRegressor model\n",
    "dt_model = DecisionTreeRegressor()\n",
    "\n",
    "# Defines hypertuning parameters\n",
    "params = {\n",
    "    \"max_depth\": np.arange(1, 21),\n",
    "    \"min_samples_leaf\": [1, 5, 10, 20, 50, 100],\n",
    "    \"min_samples_split\": np.arange(2, 11),\n",
    "    \"criterion\": [\"mse\"],\n",
    "    \"random_state\": [42]\n",
    "}\n",
    "\n",
    "# Performs GridSearch with given params\n",
    "dt_model = GridSearchCV(estimator=dt_model,\n",
    "                        param_grid=params,\n",
    "                        cv=10,\n",
    "                        verbose=4,\n",
    "                        n_jobs=-1\n",
    "                       )\n",
    "\n",
    "dt_model = dt_model.fit(X_train, y_train)    # Fits training data to model\n",
    "y_pred = dt_model.predict(X_test)            # Produces prediction\n",
    "\n",
    "dt_cv = dt_model.best_score_                 # Determines CV score based on GridSearch above\n",
    "dt_r2 = r2_score(y_test, y_pred)             # Calculates R² score\n",
    "\n",
    "# Outputs hypertuning results and performance metrics\n",
    "print(f\">>  DecisionTree optimal params: {dt_model.best_params_}\")\n",
    "print(f\">>                     CV score: {dt_cv}\")\n",
    "print(f\">>                     R² score: {dt_r2}\")"
   ]
  },
  {
   "cell_type": "markdown",
   "id": "c0148b9a",
   "metadata": {},
   "source": [
    "## Prediction using Lasso Regression\n",
    "\n",
    "All regression models consist of coefficients, which describe the relationship between predictor (independent) variables and the response. This type of regression model, which stands for \"least absolute shrinkage and selection operator\", aims to reduce the coefficient of less significant features by way of [L1 regularization](https://en.wikipedia.org/wiki/Regularization_(mathematics)) (which introduces sum of absolute value of coefficients), subsequently improving feature selection and preventing overfitting.\n",
    "\n",
    "The classes required to build this model include [`Lasso`](https://scikit-learn.org/stable/modules/generated/sklearn.linear_model.Lasso.html) and `Pipeline`. The model has been hypertuned, with the usual performance metrics calculated."
   ]
  },
  {
   "cell_type": "code",
   "execution_count": 26,
   "id": "27822114",
   "metadata": {},
   "outputs": [
    {
     "name": "stdout",
     "output_type": "stream",
     "text": [
      "Fitting 10 folds for each of 5 candidates, totalling 50 fits\n",
      ">>  LassoReg optimal params: {'model__alpha': 1, 'model__fit_intercept': True, 'model__max_iter': 3000, 'model__random_state': 909, 'model__tol': 0.0001}\n",
      ">>                     Mean: 13042.83541489552\n",
      ">>              10% of Mean: 1304.2835414895521\n",
      ">>                     RMSE: 4641.73162068854\n",
      ">>                 CV score: 0.8296960546750738\n",
      ">>                 R² score: 0.8504597896871535\n"
     ]
    }
   ],
   "source": [
    "# Required classes/modules\n",
    "from sklearn.linear_model import Lasso\n",
    "from sklearn.pipeline import Pipeline\n",
    "\n",
    "# Split the data into random train and test subsets\n",
    "X_train, X_test, y_train, y_test = train_test_split(X, y, test_size=0.25, random_state=64)\n",
    "\n",
    "# Initialises LassoReg model\n",
    "lasso_model_pipe = Pipeline([\n",
    "    (\"scalar\", StandardScaler()),\n",
    "    (\"poly\", PolynomialFeatures(2)),\n",
    "    (\"model\", Lasso())\n",
    "])\n",
    "\n",
    "# Defines hypertuning parameters\n",
    "params = {\n",
    "    \"model__alpha\": [1],\n",
    "    \"model__fit_intercept\": [True],\n",
    "    \"model__tol\": [0.0001],\n",
    "    \"model__max_iter\": [2000, 3000, 4000, 5000, 6000],\n",
    "    \"model__random_state\": [909]\n",
    "}\n",
    "\n",
    "# Performs GridSearch with given params\n",
    "lasso_model = GridSearchCV(estimator=lasso_model_pipe,\n",
    "                               param_grid=params,\n",
    "                               cv=10,\n",
    "                               verbose=4,\n",
    "                               n_jobs=-1\n",
    "                          )\n",
    "\n",
    "# Fits training data to model and produces prediction\n",
    "lasso_model = lasso_model.fit(X_train, y_train.flatten())\n",
    "y_pred = lasso_model.predict(X_test)\n",
    "\n",
    "# Determines and outputs performance values\n",
    "lasso_mean = np.mean(y_test)\n",
    "lasso_rmse = np.sqrt(mean_squared_error(y_test, y_pred))\n",
    "lasso_cv = lasso_model.best_score_\n",
    "lasso_r2 = r2_score(y_test, y_pred)\n",
    "\n",
    "print(f\">>  LassoReg optimal params: {lasso_model.best_params_}\")\n",
    "print(f\">>                     Mean: {lasso_mean}\")\n",
    "print(f\">>              10% of Mean: {lasso_mean*0.1}\")\n",
    "print(f\">>                     RMSE: {lasso_rmse}\")\n",
    "print(f\">>                 CV score: {lasso_cv}\")\n",
    "print(f\">>                 R² score: {lasso_r2}\")"
   ]
  },
  {
   "cell_type": "markdown",
   "id": "4b6938b6",
   "metadata": {},
   "source": [
    "## Model Comparison and Evaluation\n",
    "\n",
    "The final step is to compare the cross-validation and R² scores of each model to determine which model performed the best overall. This is required in order to answer our research question defined in our report document. For reference, the question we decided to ask was:\n",
    "\n",
    "*“Which regression model produces the most accurate result for predicting charges?”*\n",
    "\n",
    "In order to produce the comparison visualisations required, we must first collate the performance data of each model and store it in a `DataFrame` object."
   ]
  },
  {
   "cell_type": "code",
   "execution_count": 27,
   "id": "9d53a7de",
   "metadata": {},
   "outputs": [
    {
     "data": {
      "text/html": [
       "<div>\n",
       "<style scoped>\n",
       "    .dataframe tbody tr th:only-of-type {\n",
       "        vertical-align: middle;\n",
       "    }\n",
       "\n",
       "    .dataframe tbody tr th {\n",
       "        vertical-align: top;\n",
       "    }\n",
       "\n",
       "    .dataframe thead th {\n",
       "        text-align: right;\n",
       "    }\n",
       "</style>\n",
       "<table border=\"1\" class=\"dataframe\">\n",
       "  <thead>\n",
       "    <tr style=\"text-align: right;\">\n",
       "      <th></th>\n",
       "      <th>Model</th>\n",
       "      <th>CV</th>\n",
       "      <th>R2</th>\n",
       "    </tr>\n",
       "  </thead>\n",
       "  <tbody>\n",
       "    <tr>\n",
       "      <th>0</th>\n",
       "      <td>Linear Regression</td>\n",
       "      <td>0.744501</td>\n",
       "      <td>0.729641</td>\n",
       "    </tr>\n",
       "    <tr>\n",
       "      <th>1</th>\n",
       "      <td>Polynomial (2nd Degree) Regression</td>\n",
       "      <td>0.759943</td>\n",
       "      <td>0.829729</td>\n",
       "    </tr>\n",
       "    <tr>\n",
       "      <th>2</th>\n",
       "      <td>Support Vector Regression</td>\n",
       "      <td>0.851501</td>\n",
       "      <td>0.810223</td>\n",
       "    </tr>\n",
       "    <tr>\n",
       "      <th>3</th>\n",
       "      <td>Decision Tree Regression</td>\n",
       "      <td>0.850445</td>\n",
       "      <td>0.842941</td>\n",
       "    </tr>\n",
       "    <tr>\n",
       "      <th>4</th>\n",
       "      <td>Lasso Regression</td>\n",
       "      <td>0.829696</td>\n",
       "      <td>0.850460</td>\n",
       "    </tr>\n",
       "  </tbody>\n",
       "</table>\n",
       "</div>"
      ],
      "text/plain": [
       "                                Model        CV        R2\n",
       "0                   Linear Regression  0.744501  0.729641\n",
       "1  Polynomial (2nd Degree) Regression  0.759943  0.829729\n",
       "2           Support Vector Regression  0.851501  0.810223\n",
       "3            Decision Tree Regression  0.850445  0.842941\n",
       "4                    Lasso Regression  0.829696  0.850460"
      ]
     },
     "execution_count": 27,
     "metadata": {},
     "output_type": "execute_result"
    }
   ],
   "source": [
    "# Gathers metrics for each model from previous cells\n",
    "data = [\n",
    "    [\"Linear Regression\", linreg_cv, linreg_r2],\n",
    "    [\"Polynomial (2nd Degree) Regression\", polyreg_cv, polyreg_r2],\n",
    "    [\"Support Vector Regression\", svr_cv, svr_r2],\n",
    "    [\"Decision Tree Regression\", dt_cv, dt_r2],\n",
    "    [\"Lasso Regression\", lasso_cv, lasso_r2]\n",
    "]\n",
    "\n",
    "# Produces and outputs a DataFrame by passing data list and specifying column names\n",
    "stats = pd.DataFrame(data, columns=[\"Model\", \"CV\", \"R2\"])\n",
    "stats"
   ]
  },
  {
   "cell_type": "markdown",
   "id": "0d4d2ac7",
   "metadata": {},
   "source": [
    "The output of `stats` displays the values for both types of performance statistics in separate columns for each model, as indented. This object can now be used in order to produce a `seaborn.barplot` figure for each stat in the following cell by calling the `comp_plot` function below."
   ]
  },
  {
   "cell_type": "code",
   "execution_count": 28,
   "id": "dbf2ea3f",
   "metadata": {},
   "outputs": [
    {
     "data": {
      "image/png": "[encoded data removed]",
      "text/plain": [
       "<Figure size 1080x360 with 1 Axes>"
      ]
     },
     "metadata": {},
     "output_type": "display_data"
    },
    {
     "data": {
      "image/png": "[encoded data removed]",
      "text/plain": [
       "<Figure size 1080x360 with 1 Axes>"
      ]
     },
     "metadata": {},
     "output_type": "display_data"
    }
   ],
   "source": [
    "sns.set_theme(style=\"whitegrid\")    # Updates theme for plots\n",
    "\n",
    "def comp_plot(data, metric):\n",
    "    \"\"\"\n",
    "        Produces a `barplot` figure to compare model performance for a given metric.\n",
    "        Assumes `metric` is equivalent to either \"CV\" or \"R2\".\n",
    "    \"\"\"\n",
    "    # Determines plot arguments depending on the performance metric specified\n",
    "    color, title = (\"hot\", \"Cross-validation\") if metric == \"CV\" else (\"summer\", \"R²\")\n",
    "    \n",
    "    # Initialises comparison plot\n",
    "    fig, axs = plt.subplots(1, 1, figsize=(15, 5))\n",
    "    \n",
    "    # Produces the barplot (with corresponding arguments)\n",
    "    comp = sns.barplot(\n",
    "        x=metric,\n",
    "        y=\"Model\",\n",
    "        palette=color,\n",
    "        data=data,\n",
    "        order=data.sort_values(metric, ascending=False).Model\n",
    "    )\n",
    "    comp.set_title(f\"Model Performance Comparison ({title} score)\", size=\"large\", style=\"italic\", weight=\"bold\")\n",
    "    \n",
    "    # Remove axis labels, displays gridlines for x-axis, removes plot borders\n",
    "    axs.set_ylabel(\"\")\n",
    "    axs.set_xlabel(\"\")\n",
    "    axs.xaxis.grid(True)\n",
    "    sns.despine(left=True, bottom=True)\n",
    "    \n",
    "    # Shows and saves plot\n",
    "    plt.show()\n",
    "#     fig.savefig(f\"../models/{metric.lower()}_comp_fig01.png\", bbox_inches=\"tight\")\n",
    "\n",
    "\n",
    "# Produces CV and R² comparison plots\n",
    "comp_plot(stats, \"CV\")\n",
    "comp_plot(stats, \"R2\")"
   ]
  }
 ],
 "metadata": {
  "kernelspec": {
   "display_name": "Python 3",
   "language": "python",
   "name": "python3"
  },
  "language_info": {
   "codemirror_mode": {
    "name": "ipython",
    "version": 3
   },
   "file_extension": ".py",
   "mimetype": "text/x-python",
   "name": "python",
   "nbconvert_exporter": "python",
   "pygments_lexer": "ipython3",
   "version": "3.8.8"
  }
 },
 "nbformat": 4,
 "nbformat_minor": 5
}
