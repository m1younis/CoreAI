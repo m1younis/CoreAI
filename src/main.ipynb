{
 "cells": [
  {
   "cell_type": "markdown",
   "id": "e43eb26b",
   "metadata": {},
   "source": [
    "# IN3062 – Introduction to Artificial Intelligence\n",
    "\n",
    "## *Coursework Notebook*\n",
    "\n",
    "#### Sever Miranbeg, Akif Karakus, Moeen Younis"
   ]
  },
  {
   "cell_type": "markdown",
   "id": "62abba06",
   "metadata": {},
   "source": [
    "# Introduction\n",
    "\n",
    "This notebook documents analysis done on a [dataset](https://www.kaggle.com/mirichoi0218/insurance) collating records of anonymous individuals in the US on health insurance premiums in order to produce a model predicting the cost of a healthcare package for a single person based on several factors, some of which include their **age**, **gender** and [**BMI**](https://en.wikipedia.org/wiki/Body_mass_index) value.\n",
    "\n",
    "## Reading in the data\n",
    "\n",
    "Firstly, we import the required [`os`](https://docs.python.org/3.8/library/os.html) and [`pandas`](https://pandas.pydata.org/pandas-docs/version/1.3.3/reference/index.html) modules in order to load the CSV file (`healthcare.csv`) containing the our data and create a new [`DataFrame`](https://pandas.pydata.org/pandas-docs/version/1.3.3/reference/frame.html) object. The [`head`](https://pandas.pydata.org/pandas-docs/version/1.3.3/reference/api/pandas.DataFrame.head.html) function is then used to display the object's columns and first 5 rows."
   ]
  },
  {
   "cell_type": "code",
   "execution_count": 1,
   "id": "938ffd74",
   "metadata": {
    "scrolled": false
   },
   "outputs": [
    {
     "data": {
      "text/html": [
       "<div>\n",
       "<style scoped>\n",
       "    .dataframe tbody tr th:only-of-type {\n",
       "        vertical-align: middle;\n",
       "    }\n",
       "\n",
       "    .dataframe tbody tr th {\n",
       "        vertical-align: top;\n",
       "    }\n",
       "\n",
       "    .dataframe thead th {\n",
       "        text-align: right;\n",
       "    }\n",
       "</style>\n",
       "<table border=\"1\" class=\"dataframe\">\n",
       "  <thead>\n",
       "    <tr style=\"text-align: right;\">\n",
       "      <th></th>\n",
       "      <th>age</th>\n",
       "      <th>sex</th>\n",
       "      <th>bmi</th>\n",
       "      <th>children</th>\n",
       "      <th>smoker</th>\n",
       "      <th>region</th>\n",
       "      <th>charges</th>\n",
       "    </tr>\n",
       "  </thead>\n",
       "  <tbody>\n",
       "    <tr>\n",
       "      <th>0</th>\n",
       "      <td>19</td>\n",
       "      <td>female</td>\n",
       "      <td>27.900</td>\n",
       "      <td>0</td>\n",
       "      <td>yes</td>\n",
       "      <td>southwest</td>\n",
       "      <td>16884.92400</td>\n",
       "    </tr>\n",
       "    <tr>\n",
       "      <th>1</th>\n",
       "      <td>18</td>\n",
       "      <td>male</td>\n",
       "      <td>33.770</td>\n",
       "      <td>1</td>\n",
       "      <td>no</td>\n",
       "      <td>southeast</td>\n",
       "      <td>1725.55230</td>\n",
       "    </tr>\n",
       "    <tr>\n",
       "      <th>2</th>\n",
       "      <td>28</td>\n",
       "      <td>male</td>\n",
       "      <td>33.000</td>\n",
       "      <td>3</td>\n",
       "      <td>no</td>\n",
       "      <td>southeast</td>\n",
       "      <td>4449.46200</td>\n",
       "    </tr>\n",
       "    <tr>\n",
       "      <th>3</th>\n",
       "      <td>33</td>\n",
       "      <td>male</td>\n",
       "      <td>22.705</td>\n",
       "      <td>0</td>\n",
       "      <td>no</td>\n",
       "      <td>northwest</td>\n",
       "      <td>21984.47061</td>\n",
       "    </tr>\n",
       "    <tr>\n",
       "      <th>4</th>\n",
       "      <td>32</td>\n",
       "      <td>male</td>\n",
       "      <td>28.880</td>\n",
       "      <td>0</td>\n",
       "      <td>no</td>\n",
       "      <td>northwest</td>\n",
       "      <td>3866.85520</td>\n",
       "    </tr>\n",
       "  </tbody>\n",
       "</table>\n",
       "</div>"
      ],
      "text/plain": [
       "   age     sex     bmi  children smoker     region      charges\n",
       "0   19  female  27.900         0    yes  southwest  16884.92400\n",
       "1   18    male  33.770         1     no  southeast   1725.55230\n",
       "2   28    male  33.000         3     no  southeast   4449.46200\n",
       "3   33    male  22.705         0     no  northwest  21984.47061\n",
       "4   32    male  28.880         0     no  northwest   3866.85520"
      ]
     },
     "execution_count": 1,
     "metadata": {},
     "output_type": "execute_result"
    }
   ],
   "source": [
    "# Required imports\n",
    "import os\n",
    "import pandas as pd\n",
    "\n",
    "# Reads in CSV to initialize a DataFrame, then outputs the first 5 rows\n",
    "path = \"../data/\"\n",
    "read = os.path.join(path, \"healthcare.csv\")\n",
    "df = pd.read_csv(read)\n",
    "df.head()"
   ]
  },
  {
   "cell_type": "markdown",
   "id": "2ac7c126",
   "metadata": {},
   "source": [
    "Referencing the [`shape`](https://pandas.pydata.org/pandas-docs/version/1.3.3/reference/api/pandas.DataFrame.shape.html) property of our `DataFrame` object returns a tuple representing its dimensions (number of rows by number of columns)."
   ]
  },
  {
   "cell_type": "code",
   "execution_count": 2,
   "id": "5b4c595c",
   "metadata": {},
   "outputs": [
    {
     "data": {
      "text/plain": [
       "(1338, 7)"
      ]
     },
     "execution_count": 2,
     "metadata": {},
     "output_type": "execute_result"
    }
   ],
   "source": [
    "df.shape    # Returns the dimensions (rows, cols)"
   ]
  },
  {
   "cell_type": "markdown",
   "id": "a198845c",
   "metadata": {},
   "source": [
    "As shown above, there are 1338 rows (observations) in addition to 7 columns (features) to work with, which is sufficient to build a reliable model. The following section covers the steps taken to prepare the data for training.\n",
    "\n",
    "## Preprocessing the data\n",
    "\n",
    "Data preprocessing is essential in machine learning, as it ensures consistency in the data and relevant information used by a model, subsequently improving its ability to learn.\n",
    "\n",
    "Almost all datasets present in the real world contain some discrepancies, requiring us to identify missing data. In the case of our dataset, NA/null values are represented by `NaN`. This can be done by calling either [`isna`](https://pandas.pydata.org/pandas-docs/version/1.3.3/reference/api/pandas.DataFrame.isna.html) or [`isnull`](https://pandas.pydata.org/pandas-docs/version/1.3.3/reference/api/pandas.DataFrame.isnull.html), which both produce the same output."
   ]
  },
  {
   "cell_type": "code",
   "execution_count": 3,
   "id": "50d8c23e",
   "metadata": {},
   "outputs": [
    {
     "data": {
      "text/html": [
       "<div>\n",
       "<style scoped>\n",
       "    .dataframe tbody tr th:only-of-type {\n",
       "        vertical-align: middle;\n",
       "    }\n",
       "\n",
       "    .dataframe tbody tr th {\n",
       "        vertical-align: top;\n",
       "    }\n",
       "\n",
       "    .dataframe thead th {\n",
       "        text-align: right;\n",
       "    }\n",
       "</style>\n",
       "<table border=\"1\" class=\"dataframe\">\n",
       "  <thead>\n",
       "    <tr style=\"text-align: right;\">\n",
       "      <th></th>\n",
       "      <th>age</th>\n",
       "      <th>sex</th>\n",
       "      <th>bmi</th>\n",
       "      <th>children</th>\n",
       "      <th>smoker</th>\n",
       "      <th>region</th>\n",
       "      <th>charges</th>\n",
       "    </tr>\n",
       "  </thead>\n",
       "  <tbody>\n",
       "    <tr>\n",
       "      <th>0</th>\n",
       "      <td>False</td>\n",
       "      <td>False</td>\n",
       "      <td>False</td>\n",
       "      <td>False</td>\n",
       "      <td>False</td>\n",
       "      <td>False</td>\n",
       "      <td>False</td>\n",
       "    </tr>\n",
       "    <tr>\n",
       "      <th>1</th>\n",
       "      <td>False</td>\n",
       "      <td>False</td>\n",
       "      <td>False</td>\n",
       "      <td>False</td>\n",
       "      <td>False</td>\n",
       "      <td>False</td>\n",
       "      <td>False</td>\n",
       "    </tr>\n",
       "    <tr>\n",
       "      <th>2</th>\n",
       "      <td>False</td>\n",
       "      <td>False</td>\n",
       "      <td>False</td>\n",
       "      <td>False</td>\n",
       "      <td>False</td>\n",
       "      <td>False</td>\n",
       "      <td>False</td>\n",
       "    </tr>\n",
       "    <tr>\n",
       "      <th>3</th>\n",
       "      <td>False</td>\n",
       "      <td>False</td>\n",
       "      <td>False</td>\n",
       "      <td>False</td>\n",
       "      <td>False</td>\n",
       "      <td>False</td>\n",
       "      <td>False</td>\n",
       "    </tr>\n",
       "    <tr>\n",
       "      <th>4</th>\n",
       "      <td>False</td>\n",
       "      <td>False</td>\n",
       "      <td>False</td>\n",
       "      <td>False</td>\n",
       "      <td>False</td>\n",
       "      <td>False</td>\n",
       "      <td>False</td>\n",
       "    </tr>\n",
       "    <tr>\n",
       "      <th>...</th>\n",
       "      <td>...</td>\n",
       "      <td>...</td>\n",
       "      <td>...</td>\n",
       "      <td>...</td>\n",
       "      <td>...</td>\n",
       "      <td>...</td>\n",
       "      <td>...</td>\n",
       "    </tr>\n",
       "    <tr>\n",
       "      <th>1333</th>\n",
       "      <td>False</td>\n",
       "      <td>False</td>\n",
       "      <td>False</td>\n",
       "      <td>False</td>\n",
       "      <td>False</td>\n",
       "      <td>False</td>\n",
       "      <td>False</td>\n",
       "    </tr>\n",
       "    <tr>\n",
       "      <th>1334</th>\n",
       "      <td>False</td>\n",
       "      <td>False</td>\n",
       "      <td>False</td>\n",
       "      <td>False</td>\n",
       "      <td>False</td>\n",
       "      <td>False</td>\n",
       "      <td>False</td>\n",
       "    </tr>\n",
       "    <tr>\n",
       "      <th>1335</th>\n",
       "      <td>False</td>\n",
       "      <td>False</td>\n",
       "      <td>False</td>\n",
       "      <td>False</td>\n",
       "      <td>False</td>\n",
       "      <td>False</td>\n",
       "      <td>False</td>\n",
       "    </tr>\n",
       "    <tr>\n",
       "      <th>1336</th>\n",
       "      <td>False</td>\n",
       "      <td>False</td>\n",
       "      <td>False</td>\n",
       "      <td>False</td>\n",
       "      <td>False</td>\n",
       "      <td>False</td>\n",
       "      <td>False</td>\n",
       "    </tr>\n",
       "    <tr>\n",
       "      <th>1337</th>\n",
       "      <td>False</td>\n",
       "      <td>False</td>\n",
       "      <td>False</td>\n",
       "      <td>False</td>\n",
       "      <td>False</td>\n",
       "      <td>False</td>\n",
       "      <td>False</td>\n",
       "    </tr>\n",
       "  </tbody>\n",
       "</table>\n",
       "<p>1338 rows × 7 columns</p>\n",
       "</div>"
      ],
      "text/plain": [
       "        age    sex    bmi  children  smoker  region  charges\n",
       "0     False  False  False     False   False   False    False\n",
       "1     False  False  False     False   False   False    False\n",
       "2     False  False  False     False   False   False    False\n",
       "3     False  False  False     False   False   False    False\n",
       "4     False  False  False     False   False   False    False\n",
       "...     ...    ...    ...       ...     ...     ...      ...\n",
       "1333  False  False  False     False   False   False    False\n",
       "1334  False  False  False     False   False   False    False\n",
       "1335  False  False  False     False   False   False    False\n",
       "1336  False  False  False     False   False   False    False\n",
       "1337  False  False  False     False   False   False    False\n",
       "\n",
       "[1338 rows x 7 columns]"
      ]
     },
     "execution_count": 3,
     "metadata": {},
     "output_type": "execute_result"
    }
   ],
   "source": [
    "df.isna()    # Is each cell NA/null?"
   ]
  },
  {
   "cell_type": "markdown",
   "id": "1c05276f",
   "metadata": {},
   "source": [
    "For a clearer summary of any NA/null values in the dataset, calling [`sum`](https://pandas.pydata.org/pandas-docs/version/1.3.3/reference/api/pandas.DataFrame.sum.html) immediately after `isna` or `isnull` will calculate the number of `NaN` values found under each column in a given `DataFrame` object, as shown below."
   ]
  },
  {
   "cell_type": "code",
   "execution_count": 4,
   "id": "0a0b6fd5",
   "metadata": {},
   "outputs": [
    {
     "data": {
      "text/plain": [
       "age         0\n",
       "sex         0\n",
       "bmi         0\n",
       "children    0\n",
       "smoker      0\n",
       "region      0\n",
       "charges     0\n",
       "dtype: int64"
      ]
     },
     "execution_count": 4,
     "metadata": {},
     "output_type": "execute_result"
    }
   ],
   "source": [
    "df.isnull().sum()    # Outputs the number of NA/null values under each column"
   ]
  },
  {
   "cell_type": "markdown",
   "id": "a6e42aed",
   "metadata": {},
   "source": [
    "To retrieve relevant statistics (mean, ranges, quartiles, standard deviation) we made use of [`describe`](https://pandas.pydata.org/pandas-docs/version/1.3.3/reference/api/pandas.DataFrame.describe.html). Non-numeric columns (`sex`, `smoker`, `region`) are excluded by default."
   ]
  },
  {
   "cell_type": "code",
   "execution_count": 5,
   "id": "aee51b7d",
   "metadata": {},
   "outputs": [
    {
     "data": {
      "text/html": [
       "<div>\n",
       "<style scoped>\n",
       "    .dataframe tbody tr th:only-of-type {\n",
       "        vertical-align: middle;\n",
       "    }\n",
       "\n",
       "    .dataframe tbody tr th {\n",
       "        vertical-align: top;\n",
       "    }\n",
       "\n",
       "    .dataframe thead th {\n",
       "        text-align: right;\n",
       "    }\n",
       "</style>\n",
       "<table border=\"1\" class=\"dataframe\">\n",
       "  <thead>\n",
       "    <tr style=\"text-align: right;\">\n",
       "      <th></th>\n",
       "      <th>age</th>\n",
       "      <th>bmi</th>\n",
       "      <th>children</th>\n",
       "      <th>charges</th>\n",
       "    </tr>\n",
       "  </thead>\n",
       "  <tbody>\n",
       "    <tr>\n",
       "      <th>count</th>\n",
       "      <td>1338.000000</td>\n",
       "      <td>1338.000000</td>\n",
       "      <td>1338.000000</td>\n",
       "      <td>1338.000000</td>\n",
       "    </tr>\n",
       "    <tr>\n",
       "      <th>mean</th>\n",
       "      <td>39.207025</td>\n",
       "      <td>30.663397</td>\n",
       "      <td>1.094918</td>\n",
       "      <td>13270.422265</td>\n",
       "    </tr>\n",
       "    <tr>\n",
       "      <th>std</th>\n",
       "      <td>14.049960</td>\n",
       "      <td>6.098187</td>\n",
       "      <td>1.205493</td>\n",
       "      <td>12110.011237</td>\n",
       "    </tr>\n",
       "    <tr>\n",
       "      <th>min</th>\n",
       "      <td>18.000000</td>\n",
       "      <td>15.960000</td>\n",
       "      <td>0.000000</td>\n",
       "      <td>1121.873900</td>\n",
       "    </tr>\n",
       "    <tr>\n",
       "      <th>25%</th>\n",
       "      <td>27.000000</td>\n",
       "      <td>26.296250</td>\n",
       "      <td>0.000000</td>\n",
       "      <td>4740.287150</td>\n",
       "    </tr>\n",
       "    <tr>\n",
       "      <th>50%</th>\n",
       "      <td>39.000000</td>\n",
       "      <td>30.400000</td>\n",
       "      <td>1.000000</td>\n",
       "      <td>9382.033000</td>\n",
       "    </tr>\n",
       "    <tr>\n",
       "      <th>75%</th>\n",
       "      <td>51.000000</td>\n",
       "      <td>34.693750</td>\n",
       "      <td>2.000000</td>\n",
       "      <td>16639.912515</td>\n",
       "    </tr>\n",
       "    <tr>\n",
       "      <th>max</th>\n",
       "      <td>64.000000</td>\n",
       "      <td>53.130000</td>\n",
       "      <td>5.000000</td>\n",
       "      <td>63770.428010</td>\n",
       "    </tr>\n",
       "  </tbody>\n",
       "</table>\n",
       "</div>"
      ],
      "text/plain": [
       "               age          bmi     children       charges\n",
       "count  1338.000000  1338.000000  1338.000000   1338.000000\n",
       "mean     39.207025    30.663397     1.094918  13270.422265\n",
       "std      14.049960     6.098187     1.205493  12110.011237\n",
       "min      18.000000    15.960000     0.000000   1121.873900\n",
       "25%      27.000000    26.296250     0.000000   4740.287150\n",
       "50%      39.000000    30.400000     1.000000   9382.033000\n",
       "75%      51.000000    34.693750     2.000000  16639.912515\n",
       "max      64.000000    53.130000     5.000000  63770.428010"
      ]
     },
     "execution_count": 5,
     "metadata": {},
     "output_type": "execute_result"
    }
   ],
   "source": [
    "df.describe()    # Summary stats"
   ]
  },
  {
   "cell_type": "markdown",
   "id": "471c8ee8",
   "metadata": {},
   "source": [
    "From the figures above, we see that:\n",
    "- The average cost of a health insurance plan for an individual is 13,720 USD whilst the standard deviation lies at 12,110 USD.\n",
    "    - This suggests that costs are fairly dispersed due to the relatively small difference between both values.\n",
    "- The cheapest plan costs 1,122 USD in comparison to the most expensive at 63,770.\n",
    "- The average age is 39, the youngest being 18 and the oldest 64.\n",
    "- The average BMI value falls at around 31 with a standard deviation of 6.\n",
    "    - This indicates that the spread in BMI values amongst individuals in the dataset is relatively small.\n",
    "    \n",
    "As a final step in preprocessing the data, we must convert categorical variables in the dataset into dummy or indicator variables. This is required as regression doesn't allow the use of non-numerical values in its model. We can see in the previous code block that the columns (features) `sex`, `smoker` and `region` were not included in the [`describe`](https://pandas.pydata.org/pandas-docs/version/1.3.3/reference/api/pandas.DataFrame.describe.html) function. \n",
    "\n",
    "We can make use of another function provided by the `pandas` library called [`get_dummies`](https://pandas.pydata.org/pandas-docs/version/1.3.3/reference/api/pandas.get_dummies.html) which preprocesses the non-numerical columns into data that the regression model can make use of. This is preferable as the more features the model is able to work with, the better prediction it is able to make.\n",
    "\n",
    "A deep copy of the original dataset is created by calling [`copy`](https://pandas.pydata.org/pandas-docs/version/1.3.3/reference/api/pandas.DataFrame.copy.html), instead of overwriting in case it is required later on. The result is a newly initialized `DataFrame` object."
   ]
  },
  {
   "cell_type": "code",
   "execution_count": 6,
   "id": "aa557634",
   "metadata": {
    "scrolled": true
   },
   "outputs": [
    {
     "data": {
      "text/html": [
       "<div>\n",
       "<style scoped>\n",
       "    .dataframe tbody tr th:only-of-type {\n",
       "        vertical-align: middle;\n",
       "    }\n",
       "\n",
       "    .dataframe tbody tr th {\n",
       "        vertical-align: top;\n",
       "    }\n",
       "\n",
       "    .dataframe thead th {\n",
       "        text-align: right;\n",
       "    }\n",
       "</style>\n",
       "<table border=\"1\" class=\"dataframe\">\n",
       "  <thead>\n",
       "    <tr style=\"text-align: right;\">\n",
       "      <th></th>\n",
       "      <th>age</th>\n",
       "      <th>bmi</th>\n",
       "      <th>children</th>\n",
       "      <th>charges</th>\n",
       "      <th>sex_female</th>\n",
       "      <th>sex_male</th>\n",
       "      <th>smoker_no</th>\n",
       "      <th>smoker_yes</th>\n",
       "      <th>region_northeast</th>\n",
       "      <th>region_northwest</th>\n",
       "      <th>region_southeast</th>\n",
       "      <th>region_southwest</th>\n",
       "    </tr>\n",
       "  </thead>\n",
       "  <tbody>\n",
       "    <tr>\n",
       "      <th>0</th>\n",
       "      <td>19</td>\n",
       "      <td>27.900</td>\n",
       "      <td>0</td>\n",
       "      <td>16884.92400</td>\n",
       "      <td>1</td>\n",
       "      <td>0</td>\n",
       "      <td>0</td>\n",
       "      <td>1</td>\n",
       "      <td>0</td>\n",
       "      <td>0</td>\n",
       "      <td>0</td>\n",
       "      <td>1</td>\n",
       "    </tr>\n",
       "    <tr>\n",
       "      <th>1</th>\n",
       "      <td>18</td>\n",
       "      <td>33.770</td>\n",
       "      <td>1</td>\n",
       "      <td>1725.55230</td>\n",
       "      <td>0</td>\n",
       "      <td>1</td>\n",
       "      <td>1</td>\n",
       "      <td>0</td>\n",
       "      <td>0</td>\n",
       "      <td>0</td>\n",
       "      <td>1</td>\n",
       "      <td>0</td>\n",
       "    </tr>\n",
       "    <tr>\n",
       "      <th>2</th>\n",
       "      <td>28</td>\n",
       "      <td>33.000</td>\n",
       "      <td>3</td>\n",
       "      <td>4449.46200</td>\n",
       "      <td>0</td>\n",
       "      <td>1</td>\n",
       "      <td>1</td>\n",
       "      <td>0</td>\n",
       "      <td>0</td>\n",
       "      <td>0</td>\n",
       "      <td>1</td>\n",
       "      <td>0</td>\n",
       "    </tr>\n",
       "    <tr>\n",
       "      <th>3</th>\n",
       "      <td>33</td>\n",
       "      <td>22.705</td>\n",
       "      <td>0</td>\n",
       "      <td>21984.47061</td>\n",
       "      <td>0</td>\n",
       "      <td>1</td>\n",
       "      <td>1</td>\n",
       "      <td>0</td>\n",
       "      <td>0</td>\n",
       "      <td>1</td>\n",
       "      <td>0</td>\n",
       "      <td>0</td>\n",
       "    </tr>\n",
       "    <tr>\n",
       "      <th>4</th>\n",
       "      <td>32</td>\n",
       "      <td>28.880</td>\n",
       "      <td>0</td>\n",
       "      <td>3866.85520</td>\n",
       "      <td>0</td>\n",
       "      <td>1</td>\n",
       "      <td>1</td>\n",
       "      <td>0</td>\n",
       "      <td>0</td>\n",
       "      <td>1</td>\n",
       "      <td>0</td>\n",
       "      <td>0</td>\n",
       "    </tr>\n",
       "  </tbody>\n",
       "</table>\n",
       "</div>"
      ],
      "text/plain": [
       "   age     bmi  children      charges  sex_female  sex_male  smoker_no  \\\n",
       "0   19  27.900         0  16884.92400           1         0          0   \n",
       "1   18  33.770         1   1725.55230           0         1          1   \n",
       "2   28  33.000         3   4449.46200           0         1          1   \n",
       "3   33  22.705         0  21984.47061           0         1          1   \n",
       "4   32  28.880         0   3866.85520           0         1          1   \n",
       "\n",
       "   smoker_yes  region_northeast  region_northwest  region_southeast  \\\n",
       "0           1                 0                 0                 0   \n",
       "1           0                 0                 0                 1   \n",
       "2           0                 0                 0                 1   \n",
       "3           0                 0                 1                 0   \n",
       "4           0                 0                 1                 0   \n",
       "\n",
       "   region_southwest  \n",
       "0                 1  \n",
       "1                 0  \n",
       "2                 0  \n",
       "3                 0  \n",
       "4                 0  "
      ]
     },
     "execution_count": 6,
     "metadata": {},
     "output_type": "execute_result"
    }
   ],
   "source": [
    "df_proc = pd.get_dummies(df.copy(deep=True))    # Converts non-numerical columns into dummy/indicator columns\n",
    "df_proc.head()"
   ]
  },
  {
   "cell_type": "markdown",
   "id": "bfde6c63",
   "metadata": {},
   "source": [
    "## Prediction using a Linear Regression Model\n",
    "\n",
    "Now that our data has been cleaned and preprocessed, we'll make use of [`sklearn`](https://scikit-learn.org/stable/modules/classes.html) (another resourceful machine learning library for Python) to produce a [linear regression model](https://scikit-learn.org/stable/modules/generated/sklearn.linear_model.LinearRegression.html). We must first define `X` and `y`, which represent the feature and target data respectively."
   ]
  },
  {
   "cell_type": "code",
   "execution_count": 7,
   "id": "dd5f31f0",
   "metadata": {},
   "outputs": [],
   "source": [
    "X = df_proc[[x for x in df_proc.columns if not \"charges\" in x]].values    # Collect the values for all non-target features\n",
    "y = df_proc[\"charges\"].values                                             # Collect the values for the target feature"
   ]
  },
  {
   "cell_type": "markdown",
   "id": "0ff670d2",
   "metadata": {},
   "source": [
    "Now that we have the feature and target data, we can split the data into training and testing using [`train_test_split`](https://scikit-learn.org/stable/modules/generated/sklearn.model_selection.train_test_split.html) data, followed by a call to [`fit`](https://scikit-learn.org/stable/modules/generated/sklearn.linear_model.LinearRegression.html#sklearn.linear_model.LinearRegression.fit) on our linear regression model."
   ]
  },
  {
   "cell_type": "code",
   "execution_count": 8,
   "id": "0a852158",
   "metadata": {},
   "outputs": [],
   "source": [
    "%%capture\n",
    "# Required imports\n",
    "from sklearn.model_selection import train_test_split \n",
    "from sklearn.linear_model import LinearRegression\n",
    "\n",
    "# Split the data into random train and test subsets\n",
    "X_train, X_test, y_train, y_test = train_test_split(X, y, test_size=0.25, random_state=909) \n",
    "\n",
    "# Builds the LinearRegression model and fits the training data\n",
    "linreg_model = LinearRegression()\n",
    "linreg_model.fit(X_train, y_train)"
   ]
  },
  {
   "cell_type": "markdown",
   "id": "b3b72b2d",
   "metadata": {},
   "source": [
    "Now that we have built and trained the model, we can produce a prediction using the [`predict`](https://scikit-learn.org/stable/modules/generated/sklearn.linear_model.LinearRegression.html#sklearn.linear_model.LinearRegression.predict) function. Later on, we'll be comparing these values against the actual values, which are stored in `y_test`."
   ]
  },
  {
   "cell_type": "code",
   "execution_count": 9,
   "id": "a3844523",
   "metadata": {},
   "outputs": [
    {
     "data": {
      "text/plain": [
       "array([ 1438.80623973, 12311.61386309, 39791.84553191,  6868.70742296,\n",
       "       24537.21893189])"
      ]
     },
     "execution_count": 9,
     "metadata": {},
     "output_type": "execute_result"
    }
   ],
   "source": [
    "y_pred = linreg_model.predict(X_test)    # Produces a prediction and outputs the first 5 values\n",
    "y_pred[0:5]"
   ]
  },
  {
   "cell_type": "markdown",
   "id": "b01a5e0b",
   "metadata": {},
   "source": [
    "With our prediction in place, we import the required modules [`numpy`](https://www.numpy.org/doc/stable/) (a comprehensive mathematical and numerical library for Python) and [`metrics`](https://scikit-learn.org/stable/modules/classes.html?highlight=metrics#module-sklearn.metrics) from `sklearn` in order to calculate the mean of the values and the root squared mean error (RMSE) by calling the [`mean`](https://numpy.org/doc/stable/reference/generated/numpy.mean.html) and [`mean_squared_error`](https://scikit-learn.org/stable/modules/generated/sklearn.metrics.mean_squared_error.html) functions respectively.\n",
    "\n",
    "These values give us an indication on the accuracy of the regression model."
   ]
  },
  {
   "cell_type": "code",
   "execution_count": 10,
   "id": "7c235cb3",
   "metadata": {},
   "outputs": [
    {
     "name": "stdout",
     "output_type": "stream",
     "text": [
      ">>        Mean: 12607.678939074629\n",
      ">>        RMSE: 5539.9913458334395\n",
      ">> 10% of Mean: 1260.767893907463\n"
     ]
    }
   ],
   "source": [
    "# Required imports\n",
    "import numpy as np\n",
    "from sklearn import metrics\n",
    "\n",
    "# Outputs of calculated values in relation to prediction\n",
    "mean = np.mean(y_test)\n",
    "print(f\">>        Mean: {mean}\")\n",
    "print(f\">>        RMSE: {np.sqrt(metrics.mean_squared_error(y_test, y_pred))}\")\n",
    "print(f\">> 10% of Mean: {mean*0.1}\")"
   ]
  },
  {
   "cell_type": "markdown",
   "id": "74729bd7",
   "metadata": {},
   "source": [
    "As we know, 10% (or less) of the mean is considered a good score for the RMSE value. However, we can see that our model has produced an RMSE value much higher than this.\n",
    "\n",
    "## Visualizing initial predictions\n",
    "\n",
    "To visualize results we'll be using the [`seaborn`](https://seaborn.pydata.org/api.html) module for data visualization in Python. The provided [`regplot`](https://seaborn.pydata.org/generated/seaborn.regplot.html) function takes in a `DataFrame` object (initialized with our test subset and predicted values) and plots the corresponding regression model."
   ]
  },
  {
   "cell_type": "code",
   "execution_count": 11,
   "id": "a1c45540",
   "metadata": {},
   "outputs": [
    {
     "data": {
      "text/plain": [
       "<AxesSubplot:xlabel='Actual', ylabel='Predicted'>"
      ]
     },
     "execution_count": 11,
     "metadata": {},
     "output_type": "execute_result"
    },
    {
     "data": {
      "image/png": "[encoded data removed]",
      "text/plain": [
       "<Figure size 432x288 with 1 Axes>"
      ]
     },
     "metadata": {
      "needs_background": "light"
     },
     "output_type": "display_data"
    }
   ],
   "source": [
    "# Required imports\n",
    "import seaborn as sns\n",
    "\n",
    "# Displays and saves plot of actual against predicted values in LinearRegression model\n",
    "linreg_fig = sns.regplot(x=\"Actual\", y=\"Predicted\", data=pd.DataFrame({\"Actual\": y_test, \"Predicted\": y_pred}), \n",
    "                         line_kws={\"color\": \"red\"})\n",
    "linreg_fig\n",
    "# linreg_fig.get_figure().savefig(\"../models/linreg_fig01.png\")"
   ]
  },
  {
   "cell_type": "markdown",
   "id": "ce458b57",
   "metadata": {},
   "source": [
    "As shown in the graph, we have a considerable amount of outliers that are not in correlation with the rest of the model. In order to handle this we shall apply standardization (also known as normalisation) using the scikit-learn library; this is necessary in order to avoid bias in the outcome.\n",
    "\n",
    "## Standardizing the data\n",
    "\n",
    "We must normalise our data in order to overcome outliers, as mentioned above. For this, we will use the [`fit_transform`](https://scikit-learn.org/stable/modules/generated/sklearn.preprocessing.StandardScaler.html#sklearn.preprocessing.StandardScaler.fit_transform) function provided by the [`StandardScaler`](https://scikit-learn.org/stable/modules/generated/sklearn.preprocessing.StandardScaler.html) class within the `sklearn` module."
   ]
  },
  {
   "cell_type": "code",
   "execution_count": 12,
   "id": "d26faf5e",
   "metadata": {},
   "outputs": [
    {
     "data": {
      "text/html": [
       "<div>\n",
       "<style scoped>\n",
       "    .dataframe tbody tr th:only-of-type {\n",
       "        vertical-align: middle;\n",
       "    }\n",
       "\n",
       "    .dataframe tbody tr th {\n",
       "        vertical-align: top;\n",
       "    }\n",
       "\n",
       "    .dataframe thead th {\n",
       "        text-align: right;\n",
       "    }\n",
       "</style>\n",
       "<table border=\"1\" class=\"dataframe\">\n",
       "  <thead>\n",
       "    <tr style=\"text-align: right;\">\n",
       "      <th></th>\n",
       "      <th>age</th>\n",
       "      <th>bmi</th>\n",
       "      <th>children</th>\n",
       "      <th>charges</th>\n",
       "      <th>sex_female</th>\n",
       "      <th>sex_male</th>\n",
       "      <th>smoker_no</th>\n",
       "      <th>smoker_yes</th>\n",
       "      <th>region_northeast</th>\n",
       "      <th>region_northwest</th>\n",
       "      <th>region_southeast</th>\n",
       "      <th>region_southwest</th>\n",
       "    </tr>\n",
       "  </thead>\n",
       "  <tbody>\n",
       "    <tr>\n",
       "      <th>0</th>\n",
       "      <td>-1.438764</td>\n",
       "      <td>-0.453320</td>\n",
       "      <td>-0.908614</td>\n",
       "      <td>16884.92400</td>\n",
       "      <td>1</td>\n",
       "      <td>0</td>\n",
       "      <td>0</td>\n",
       "      <td>1</td>\n",
       "      <td>0</td>\n",
       "      <td>0</td>\n",
       "      <td>0</td>\n",
       "      <td>1</td>\n",
       "    </tr>\n",
       "    <tr>\n",
       "      <th>1</th>\n",
       "      <td>-1.509965</td>\n",
       "      <td>0.509621</td>\n",
       "      <td>-0.078767</td>\n",
       "      <td>1725.55230</td>\n",
       "      <td>0</td>\n",
       "      <td>1</td>\n",
       "      <td>1</td>\n",
       "      <td>0</td>\n",
       "      <td>0</td>\n",
       "      <td>0</td>\n",
       "      <td>1</td>\n",
       "      <td>0</td>\n",
       "    </tr>\n",
       "    <tr>\n",
       "      <th>2</th>\n",
       "      <td>-0.797954</td>\n",
       "      <td>0.383307</td>\n",
       "      <td>1.580926</td>\n",
       "      <td>4449.46200</td>\n",
       "      <td>0</td>\n",
       "      <td>1</td>\n",
       "      <td>1</td>\n",
       "      <td>0</td>\n",
       "      <td>0</td>\n",
       "      <td>0</td>\n",
       "      <td>1</td>\n",
       "      <td>0</td>\n",
       "    </tr>\n",
       "    <tr>\n",
       "      <th>3</th>\n",
       "      <td>-0.441948</td>\n",
       "      <td>-1.305531</td>\n",
       "      <td>-0.908614</td>\n",
       "      <td>21984.47061</td>\n",
       "      <td>0</td>\n",
       "      <td>1</td>\n",
       "      <td>1</td>\n",
       "      <td>0</td>\n",
       "      <td>0</td>\n",
       "      <td>1</td>\n",
       "      <td>0</td>\n",
       "      <td>0</td>\n",
       "    </tr>\n",
       "    <tr>\n",
       "      <th>4</th>\n",
       "      <td>-0.513149</td>\n",
       "      <td>-0.292556</td>\n",
       "      <td>-0.908614</td>\n",
       "      <td>3866.85520</td>\n",
       "      <td>0</td>\n",
       "      <td>1</td>\n",
       "      <td>1</td>\n",
       "      <td>0</td>\n",
       "      <td>0</td>\n",
       "      <td>1</td>\n",
       "      <td>0</td>\n",
       "      <td>0</td>\n",
       "    </tr>\n",
       "  </tbody>\n",
       "</table>\n",
       "</div>"
      ],
      "text/plain": [
       "        age       bmi  children      charges  sex_female  sex_male  smoker_no  \\\n",
       "0 -1.438764 -0.453320 -0.908614  16884.92400           1         0          0   \n",
       "1 -1.509965  0.509621 -0.078767   1725.55230           0         1          1   \n",
       "2 -0.797954  0.383307  1.580926   4449.46200           0         1          1   \n",
       "3 -0.441948 -1.305531 -0.908614  21984.47061           0         1          1   \n",
       "4 -0.513149 -0.292556 -0.908614   3866.85520           0         1          1   \n",
       "\n",
       "   smoker_yes  region_northeast  region_northwest  region_southeast  \\\n",
       "0           1                 0                 0                 0   \n",
       "1           0                 0                 0                 1   \n",
       "2           0                 0                 0                 1   \n",
       "3           0                 0                 1                 0   \n",
       "4           0                 0                 1                 0   \n",
       "\n",
       "   region_southwest  \n",
       "0                 1  \n",
       "1                 0  \n",
       "2                 0  \n",
       "3                 0  \n",
       "4                 0  "
      ]
     },
     "execution_count": 12,
     "metadata": {},
     "output_type": "execute_result"
    }
   ],
   "source": [
    "# Required imports\n",
    "from sklearn.preprocessing import StandardScaler\n",
    "\n",
    "# Creates a StandardScaler instance and fits a copy of the original model\n",
    "std = StandardScaler()\n",
    "df_scaled = df_proc.copy(deep=True)\n",
    "df_scaled[[\"age\", \"bmi\", \"children\"]] = std.fit_transform(df_proc[[\"age\", \"bmi\", \"children\"]])\n",
    "df_scaled.head()"
   ]
  },
  {
   "cell_type": "markdown",
   "id": "4ced2727",
   "metadata": {},
   "source": [
    "As shown in the preview of the `DataFrame` above, the features we have specified have been normalised."
   ]
  },
  {
   "cell_type": "code",
   "execution_count": 13,
   "id": "5329705f",
   "metadata": {
    "scrolled": true
   },
   "outputs": [
    {
     "name": "stdout",
     "output_type": "stream",
     "text": [
      ">>        Mean: 13215.421687791046\n",
      ">>        RMSE: 6117.372256581001\n",
      ">> 10% of Mean: 1321.5421687791047\n"
     ]
    }
   ],
   "source": [
    "# Repeats steps in cells [7], [8] and [9] to split scaled data and produce a new LinearRegression model\n",
    "X = df_scaled[[x for x in df_scaled.columns if not \"charges\" in x]].values\n",
    "y = df_scaled[\"charges\"].values\n",
    "X_train, X_test, y_train, y_test = train_test_split(X, y, test_size=0.25, random_state=611)\n",
    "\n",
    "linreg_model = LinearRegression()\n",
    "linreg_model.fit(X_train, y_train)\n",
    "y_pred = linreg_model.predict(X_test)\n",
    "\n",
    "mean = np.mean(y_test)\n",
    "print(f\">>        Mean: {mean}\")\n",
    "print(f\">>        RMSE: {np.sqrt(metrics.mean_squared_error(y_test, y_pred))}\")\n",
    "print(f\">> 10% of Mean: {mean*0.1}\")"
   ]
  },
  {
   "cell_type": "markdown",
   "id": "492ced2a",
   "metadata": {},
   "source": [
    "However, we can see from the RMSE value that normalising the features `age`, `bmi` and `children` has made no difference to the accuracy of our model.\n",
    "\n",
    "## Prediction using Support Vector Machine (Regression)\n",
    "\n",
    "Another type of model used in our analysis are support vector machines (SVM), which are widely used in machine learning problems dealing with classification. Although we have a regression problem at hand, the principles of SVMs can still be applied.\n",
    "\n",
    "This supervised learning algorithm tries to achieve the best separation of given data within the margins (known as decision boundaries) either side of a dividing line or curve (referred to as a hyperplane in higher dimensions) by maximizing them such that the points closest to the hyperplane are within this boundary.\n",
    "\n",
    "We require the [`SVR`](https://scikit-learn.org/stable/modules/generated/sklearn.svm.SVR.html) class available in the `svm` module within `sklearn` in order to build the SVR model. The cell below makes use of both [`fit`](https://scikit-learn.org/stable/modules/generated/sklearn.svm.SVR.html#sklearn.svm.SVR.fit) with the training data and [`predict`](https://scikit-learn.org/stable/modules/generated/sklearn.svm.SVR.html#sklearn.svm.SVR.predict) with the testing data in an identical way to our linear regression model."
   ]
  },
  {
   "cell_type": "code",
   "execution_count": 14,
   "id": "a7116ec4",
   "metadata": {},
   "outputs": [
    {
     "data": {
      "text/plain": [
       "array([ 2443.76163908,  2148.81588397, 11578.25170527, 12059.94250529,\n",
       "        1558.7442531 ])"
      ]
     },
     "execution_count": 14,
     "metadata": {},
     "output_type": "execute_result"
    }
   ],
   "source": [
    "# Required imports\n",
    "from sklearn.svm import SVR\n",
    "\n",
    "# Repeats steps from cell above to split data into training and testing subsets\n",
    "X = df_proc[[x for x in df_proc.columns if not \"charges\" in x]].values\n",
    "y = df_proc[\"charges\"].values\n",
    "X_train, X_test, y_train, y_test = train_test_split(X, y, test_size=0.25, random_state=87)\n",
    "\n",
    "# Initializes the SVR model with the training subsets\n",
    "svr_model = SVR(kernel=\"linear\").fit(X_train, y_train)\n",
    "\n",
    "# Produces a prediction and outputs the first 5 values\n",
    "y_pred = svr_model.predict(X_test)\n",
    "y_pred[0:5]"
   ]
  },
  {
   "cell_type": "markdown",
   "id": "d7d2a0f4",
   "metadata": {},
   "source": [
    "The `regplot` function from `seaborn` has been reused in order to plot the the actual values of our data against the prediction values produced by the SVR model."
   ]
  },
  {
   "cell_type": "code",
   "execution_count": 15,
   "id": "ee1e6705",
   "metadata": {},
   "outputs": [
    {
     "data": {
      "text/plain": [
       "<AxesSubplot:xlabel='Actual', ylabel='Predicted'>"
      ]
     },
     "execution_count": 15,
     "metadata": {},
     "output_type": "execute_result"
    },
    {
     "data": {
      "image/png": "[encoded data removed]",
      "text/plain": [
       "<Figure size 432x288 with 1 Axes>"
      ]
     },
     "metadata": {
      "needs_background": "light"
     },
     "output_type": "display_data"
    }
   ],
   "source": [
    "# Required imports\n",
    "import matplotlib.pyplot as plt\n",
    "\n",
    "# Displays and saves plot of actual against predicted values in SVR model\n",
    "svr_fig01 = sns.regplot(x=\"Actual\", y=\"Predicted\", data=pd.DataFrame({\"Actual\": y_test, \"Predicted\": y_pred}), \n",
    "                        line_kws={\"color\": \"red\"})\n",
    "svr_fig01\n",
    "# svr_fig01.get_figure().savefig(\"../models/svr_fig01.png\")"
   ]
  },
  {
   "cell_type": "markdown",
   "id": "f7561617",
   "metadata": {},
   "source": [
    "## Implementing a Neural Network (Regression)\n",
    "\n",
    "Required modules include [`tensorflow`]() (and `keras` which is bundled within), from which the classes [`Sequential`]() and [`Dense`]() are needed to build a neural network with a single hidden layer, 4 units and a [sigmoid]() activation function.\n",
    "\n",
    "Since we are dealing with a regression problem, we expect the NN to return a value."
   ]
  },
  {
   "cell_type": "code",
   "execution_count": 18,
   "id": "89f86852",
   "metadata": {},
   "outputs": [
    {
     "name": "stdout",
     "output_type": "stream",
     "text": [
      "Model: \"sequential\"\n",
      "_________________________________________________________________\n",
      "Layer (type)                 Output Shape              Param #   \n",
      "=================================================================\n",
      "dense (Dense)                (None, 4)                 48        \n",
      "_________________________________________________________________\n",
      "dense_1 (Dense)              (None, 1)                 5         \n",
      "=================================================================\n",
      "Total params: 53\n",
      "Trainable params: 53\n",
      "Non-trainable params: 0\n",
      "_________________________________________________________________\n"
     ]
    }
   ],
   "source": [
    "# Required imports\n",
    "import tensorflow as tf\n",
    "from tensorflow import keras\n",
    "from tensorflow.keras.models import Sequential\n",
    "from tensorflow.keras.layers import Dense\n",
    "\n",
    "# Repeated steps to split data into training and testing subsets\n",
    "X = df_proc[[x for x in df_proc.columns if not \"charges\" in x]].values\n",
    "y = df_proc[\"charges\"].values\n",
    "X_train, X_test, y_train, y_test = train_test_split(X, y, test_size=0.25, random_state=49)\n",
    "\n",
    "# Initializes Neural Network and displays stages\n",
    "nn = Sequential()\n",
    "nn.add(Dense(4, input_shape=X[1].shape, activation=\"sigmoid\"))\n",
    "nn.add(Dense(1))\n",
    "nn.summary()"
   ]
  }
 ],
 "metadata": {
  "kernelspec": {
   "display_name": "Python 3",
   "language": "python",
   "name": "python3"
  },
  "language_info": {
   "codemirror_mode": {
    "name": "ipython",
    "version": 3
   },
   "file_extension": ".py",
   "mimetype": "text/x-python",
   "name": "python",
   "nbconvert_exporter": "python",
   "pygments_lexer": "ipython3",
   "version": "3.8.8"
  }
 },
 "nbformat": 4,
 "nbformat_minor": 5
}
